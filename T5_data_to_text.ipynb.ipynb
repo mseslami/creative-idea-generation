{
 "cells": [
  {
   "cell_type": "markdown",
   "metadata": {
    "id": "CalKR6o4KP22"
   },
   "source": [
    "## Importing required libraries"
   ]
  },
  {
   "cell_type": "code",
   "execution_count": 1,
   "metadata": {
    "colab": {
     "base_uri": "https://localhost:8080/"
    },
    "executionInfo": {
     "elapsed": 16641,
     "status": "ok",
     "timestamp": 1620557660591,
     "user": {
      "displayName": "Maryam Eslami",
      "photoUrl": "https://lh3.googleusercontent.com/a-/AOh14GiGTp1Dz0kaWLFJ344rblcuX-kGwj723ddjPFPf3w=s64",
      "userId": "12769757341109071893"
     },
     "user_tz": -270
    },
    "id": "CB6rH4GenWpN",
    "outputId": "7fab7485-9616-4f4c-e4ea-4df0109d18b5",
    "scrolled": true
   },
   "outputs": [
    {
     "name": "stdout",
     "output_type": "stream",
     "text": [
      "Running on the GPU\n"
     ]
    }
   ],
   "source": [
    "# !python3 -m pip install --upgrade pip\n",
    "# !pip3 install torch\n",
    "# !pip install transformers\n",
    "# !pip install tensorflow-gpu\n",
    "# !pip install sentencepiece\n",
    "# !pip3 install matplotlib\n",
    "# !pip3 install transformers==2.9.0 \n",
    "# !pip3 install pytorch_lightning==0.7.5\n",
    "\n",
    "import sentencepiece\n",
    "\n",
    "import pandas as pd\n",
    "import os\n",
    "import torch\n",
    "from transformers import T5Tokenizer, T5ForConditionalGeneration\n",
    "from transformers.optimization import  Adafactor \n",
    "import time\n",
    "import warnings\n",
    "import re\n",
    "import matplotlib.pyplot as plt\n",
    "\n",
    "\n",
    "warnings.filterwarnings('ignore')\n",
    "\n",
    "import torch\n",
    "if torch.cuda.is_available():\n",
    "    dev = torch.device(\"cuda:0\") \n",
    "    print(\"Running on the GPU\")\n",
    "else:\n",
    "    dev = torch.device(\"cpu\")\n",
    "    print(\"Running on the CPU\")"
   ]
  },
  {
   "cell_type": "code",
   "execution_count": 3,
   "metadata": {
    "colab": {
     "base_uri": "https://localhost:8080/"
    },
    "executionInfo": {
     "elapsed": 16631,
     "status": "ok",
     "timestamp": 1620557660592,
     "user": {
      "displayName": "Maryam Eslami",
      "photoUrl": "https://lh3.googleusercontent.com/a-/AOh14GiGTp1Dz0kaWLFJ344rblcuX-kGwj723ddjPFPf3w=s64",
      "userId": "12769757341109071893"
     },
     "user_tz": -270
    },
    "id": "tt-4FwcrTW1M",
    "outputId": "0f37413b-eb7c-4117-eada-78c79da671a7"
   },
   "outputs": [],
   "source": [
    "# from google.colab import drive\n",
    "# drive.mount('/content/drive')"
   ]
  },
  {
   "cell_type": "markdown",
   "metadata": {
    "id": "-aWMq3DOKl34"
   },
   "source": [
    "## Loading the processed data "
   ]
  },
  {
   "cell_type": "code",
   "execution_count": null,
   "metadata": {
    "executionInfo": {
     "elapsed": 16626,
     "status": "ok",
     "timestamp": 1620557660592,
     "user": {
      "displayName": "Maryam Eslami",
      "photoUrl": "https://lh3.googleusercontent.com/a-/AOh14GiGTp1Dz0kaWLFJ344rblcuX-kGwj723ddjPFPf3w=s64",
      "userId": "12769757341109071893"
     },
     "user_tz": -270
    },
    "id": "8CTSGvJQVChn"
   },
   "outputs": [],
   "source": []
  },
  {
   "cell_type": "code",
   "execution_count": 7,
   "metadata": {
    "colab": {
     "base_uri": "https://localhost:8080/",
     "height": 221
    },
    "executionInfo": {
     "elapsed": 16621,
     "status": "ok",
     "timestamp": 1620557660593,
     "user": {
      "displayName": "Maryam Eslami",
      "photoUrl": "https://lh3.googleusercontent.com/a-/AOh14GiGTp1Dz0kaWLFJ344rblcuX-kGwj723ddjPFPf3w=s64",
      "userId": "12769757341109071893"
     },
     "user_tz": -270
    },
    "id": "BQ2uifxUnVgk",
    "outputId": "1c5a5c7c-650f-4759-86d4-924b14657bc6"
   },
   "outputs": [
    {
     "name": "stdout",
     "output_type": "stream",
     "text": [
      "8 1775 1\n"
     ]
    },
    {
     "data": {
      "text/html": [
       "<div>\n",
       "<style scoped>\n",
       "    .dataframe tbody tr th:only-of-type {\n",
       "        vertical-align: middle;\n",
       "    }\n",
       "\n",
       "    .dataframe tbody tr th {\n",
       "        vertical-align: top;\n",
       "    }\n",
       "\n",
       "    .dataframe thead th {\n",
       "        text-align: right;\n",
       "    }\n",
       "</style>\n",
       "<table border=\"1\" class=\"dataframe\">\n",
       "  <thead>\n",
       "    <tr style=\"text-align: right;\">\n",
       "      <th></th>\n",
       "      <th>Id</th>\n",
       "      <th>QA</th>\n",
       "      <th>Atypical_Annot</th>\n",
       "      <th>Aty</th>\n",
       "      <th>method</th>\n",
       "      <th>obj1</th>\n",
       "      <th>obj2</th>\n",
       "      <th>Atypical_Annot2</th>\n",
       "    </tr>\n",
       "  </thead>\n",
       "  <tbody>\n",
       "    <tr>\n",
       "      <th>0</th>\n",
       "      <td>110991.jpg</td>\n",
       "      <td>I should eat Oreos because I can snack on Oreo...</td>\n",
       "      <td>Liquid Deformed Object: The liquid which has b...</td>\n",
       "      <td>milk</td>\n",
       "      <td>Liquid Deformed Object</td>\n",
       "      <td>milk</td>\n",
       "      <td>NaN</td>\n",
       "      <td>Liquid Deformed Object: The liquid which has b...</td>\n",
       "    </tr>\n",
       "    <tr>\n",
       "      <th>1</th>\n",
       "      <td>110991.jpg</td>\n",
       "      <td>I should eat Oreos because I can snack on Oreo...</td>\n",
       "      <td>Liquid Deformed Object: The liquid which has b...</td>\n",
       "      <td>milk</td>\n",
       "      <td>Liquid Deformed Object</td>\n",
       "      <td>milk</td>\n",
       "      <td>NaN</td>\n",
       "      <td>Liquid Deformed Object: The liquid which has b...</td>\n",
       "    </tr>\n",
       "    <tr>\n",
       "      <th>2</th>\n",
       "      <td>110991.jpg</td>\n",
       "      <td>I should eat Oreos because I can snack on Oreo...</td>\n",
       "      <td>Object Replacement: The object which is placed...</td>\n",
       "      <td>cookie milk person body hoopnet</td>\n",
       "      <td>Object Replacement</td>\n",
       "      <td>cookie- milk</td>\n",
       "      <td>person- body- hoop/net</td>\n",
       "      <td>Object Replacement: The object which is placed...</td>\n",
       "    </tr>\n",
       "    <tr>\n",
       "      <th>3</th>\n",
       "      <td>110991.jpg</td>\n",
       "      <td>I should eat Oreo's because Oreo fun to dunk O...</td>\n",
       "      <td>Liquid Deformed Object: The liquid which has b...</td>\n",
       "      <td>milk</td>\n",
       "      <td>Liquid Deformed Object</td>\n",
       "      <td>milk</td>\n",
       "      <td>NaN</td>\n",
       "      <td>Liquid Deformed Object: The liquid which has b...</td>\n",
       "    </tr>\n",
       "    <tr>\n",
       "      <th>4</th>\n",
       "      <td>110991.jpg</td>\n",
       "      <td>I should eat Oreo's because Oreo fun to dunk O...</td>\n",
       "      <td>Liquid Deformed Object: The liquid which has b...</td>\n",
       "      <td>milk</td>\n",
       "      <td>Liquid Deformed Object</td>\n",
       "      <td>milk</td>\n",
       "      <td>NaN</td>\n",
       "      <td>Liquid Deformed Object: The liquid which has b...</td>\n",
       "    </tr>\n",
       "    <tr>\n",
       "      <th>...</th>\n",
       "      <td>...</td>\n",
       "      <td>...</td>\n",
       "      <td>...</td>\n",
       "      <td>...</td>\n",
       "      <td>...</td>\n",
       "      <td>...</td>\n",
       "      <td>...</td>\n",
       "      <td>...</td>\n",
       "    </tr>\n",
       "    <tr>\n",
       "      <th>14202</th>\n",
       "      <td>102221.jpg</td>\n",
       "      <td>I should buy Oreo cookies because Oreo cookies...</td>\n",
       "      <td>Object Replacement: The object which is placed...</td>\n",
       "      <td>oreo persons head</td>\n",
       "      <td>Object Replacement</td>\n",
       "      <td>oreo</td>\n",
       "      <td>person's head</td>\n",
       "      <td>Object Replacement: The object which is placed...</td>\n",
       "    </tr>\n",
       "    <tr>\n",
       "      <th>14203</th>\n",
       "      <td>102221.jpg</td>\n",
       "      <td>I should buy oreo cookies because when you eat...</td>\n",
       "      <td>Object with Missing Part: The objects which ha...</td>\n",
       "      <td>person</td>\n",
       "      <td>Object with Missing Part</td>\n",
       "      <td>person</td>\n",
       "      <td>NaN</td>\n",
       "      <td>Object with Missing Part: The objects which ha...</td>\n",
       "    </tr>\n",
       "    <tr>\n",
       "      <th>14204</th>\n",
       "      <td>102221.jpg</td>\n",
       "      <td>I should buy oreo cookies because when you eat...</td>\n",
       "      <td>Solid Deformed Object: The objects that have b...</td>\n",
       "      <td>a persons body tornado</td>\n",
       "      <td>Solid Deformed Object</td>\n",
       "      <td>a persons body</td>\n",
       "      <td>tornado</td>\n",
       "      <td>Solid Deformed Object: The objects that have b...</td>\n",
       "    </tr>\n",
       "    <tr>\n",
       "      <th>14205</th>\n",
       "      <td>102221.jpg</td>\n",
       "      <td>I should buy oreo cookies because when you eat...</td>\n",
       "      <td>Solid Deformed Object: The objects that have b...</td>\n",
       "      <td>person twisted</td>\n",
       "      <td>Solid Deformed Object</td>\n",
       "      <td>person</td>\n",
       "      <td>twisted</td>\n",
       "      <td>Solid Deformed Object: The objects that have b...</td>\n",
       "    </tr>\n",
       "    <tr>\n",
       "      <th>14206</th>\n",
       "      <td>102221.jpg</td>\n",
       "      <td>I should buy oreo cookies because when you eat...</td>\n",
       "      <td>Object Replacement: The object which is placed...</td>\n",
       "      <td>oreo persons head</td>\n",
       "      <td>Object Replacement</td>\n",
       "      <td>oreo</td>\n",
       "      <td>person's head</td>\n",
       "      <td>Object Replacement: The object which is placed...</td>\n",
       "    </tr>\n",
       "  </tbody>\n",
       "</table>\n",
       "<p>14207 rows × 8 columns</p>\n",
       "</div>"
      ],
      "text/plain": [
       "               Id                                                 QA  \\\n",
       "0      110991.jpg  I should eat Oreos because I can snack on Oreo...   \n",
       "1      110991.jpg  I should eat Oreos because I can snack on Oreo...   \n",
       "2      110991.jpg  I should eat Oreos because I can snack on Oreo...   \n",
       "3      110991.jpg  I should eat Oreo's because Oreo fun to dunk O...   \n",
       "4      110991.jpg  I should eat Oreo's because Oreo fun to dunk O...   \n",
       "...           ...                                                ...   \n",
       "14202  102221.jpg  I should buy Oreo cookies because Oreo cookies...   \n",
       "14203  102221.jpg  I should buy oreo cookies because when you eat...   \n",
       "14204  102221.jpg  I should buy oreo cookies because when you eat...   \n",
       "14205  102221.jpg  I should buy oreo cookies because when you eat...   \n",
       "14206  102221.jpg  I should buy oreo cookies because when you eat...   \n",
       "\n",
       "                                          Atypical_Annot  \\\n",
       "0      Liquid Deformed Object: The liquid which has b...   \n",
       "1      Liquid Deformed Object: The liquid which has b...   \n",
       "2      Object Replacement: The object which is placed...   \n",
       "3      Liquid Deformed Object: The liquid which has b...   \n",
       "4      Liquid Deformed Object: The liquid which has b...   \n",
       "...                                                  ...   \n",
       "14202  Object Replacement: The object which is placed...   \n",
       "14203  Object with Missing Part: The objects which ha...   \n",
       "14204  Solid Deformed Object: The objects that have b...   \n",
       "14205  Solid Deformed Object: The objects that have b...   \n",
       "14206  Object Replacement: The object which is placed...   \n",
       "\n",
       "                                   Aty                    method  \\\n",
       "0                                 milk    Liquid Deformed Object   \n",
       "1                                 milk    Liquid Deformed Object   \n",
       "2      cookie milk person body hoopnet        Object Replacement   \n",
       "3                                 milk    Liquid Deformed Object   \n",
       "4                                 milk    Liquid Deformed Object   \n",
       "...                                ...                       ...   \n",
       "14202                oreo persons head        Object Replacement   \n",
       "14203                           person  Object with Missing Part   \n",
       "14204           a persons body tornado     Solid Deformed Object   \n",
       "14205                   person twisted     Solid Deformed Object   \n",
       "14206                oreo persons head        Object Replacement   \n",
       "\n",
       "                 obj1                    obj2  \\\n",
       "0                milk                     NaN   \n",
       "1                milk                     NaN   \n",
       "2        cookie- milk  person- body- hoop/net   \n",
       "3                milk                     NaN   \n",
       "4                milk                     NaN   \n",
       "...               ...                     ...   \n",
       "14202            oreo           person's head   \n",
       "14203          person                     NaN   \n",
       "14204  a persons body                 tornado   \n",
       "14205          person                 twisted   \n",
       "14206            oreo           person's head   \n",
       "\n",
       "                                         Atypical_Annot2  \n",
       "0      Liquid Deformed Object: The liquid which has b...  \n",
       "1      Liquid Deformed Object: The liquid which has b...  \n",
       "2      Object Replacement: The object which is placed...  \n",
       "3      Liquid Deformed Object: The liquid which has b...  \n",
       "4      Liquid Deformed Object: The liquid which has b...  \n",
       "...                                                  ...  \n",
       "14202  Object Replacement: The object which is placed...  \n",
       "14203  Object with Missing Part: The objects which ha...  \n",
       "14204  Solid Deformed Object: The objects that have b...  \n",
       "14205  Solid Deformed Object: The objects that have b...  \n",
       "14206  Object Replacement: The object which is placed...  \n",
       "\n",
       "[14207 rows x 8 columns]"
      ]
     },
     "execution_count": 7,
     "metadata": {},
     "output_type": "execute_result"
    }
   ],
   "source": [
    "# train_df=pd.read_csv('webNLG2020_train.csv', index_col=[0])\n",
    "\n",
    "\n",
    "\n",
    "# train_df=pd.read_csv('ad_atypical.csv', index_col=0)\n",
    "# train_df=pd.read_csv('ad_atypical.csv', index_col=0)\n",
    "# train_df=pd.read_csv('ad_atypical_aug2.csv', index_col=0)\n",
    "train_df=pd.read_csv('aty.csv', index_col=0)\n",
    "# train_df=pd.read_csv('unsupervised.csv', index_col=0)\n",
    "batch_size=8\n",
    "num_of_batches=len(train_df)/batch_size\n",
    "num_of_epochs=1\n",
    "num_of_batches=int(num_of_batches)\n",
    "print(batch_size, num_of_batches, num_of_epochs)\n",
    "\n",
    "# print(type(train_df.iloc[0]['obj2']))\n",
    "# train_df['obj1'] = train_df['obj1'].astype(str)\n",
    "# train_df['obj2'] = train_df['obj2'].astype(str)\n",
    "# train_df = train_df.fillna('')\n",
    "# print(type(train_df.iloc[0]['obj2']))\n",
    "\n",
    "train_df"
   ]
  },
  {
   "cell_type": "code",
   "execution_count": 54,
   "metadata": {},
   "outputs": [],
   "source": [
    "# new =[]\n",
    "# for i in range(len(train_df)):\n",
    "#     temp = train_df.iloc[i]['Atypical_Annot'].replace('<b>', '')\n",
    "#     new.append(temp.replace('</b>', ''))\n",
    "# train_df['Atypical_Annot2'] =new\n",
    "# train_df\n",
    "# train_df.to_csv('aty.csv')"
   ]
  },
  {
   "cell_type": "code",
   "execution_count": 5,
   "metadata": {},
   "outputs": [],
   "source": [
    "# s = re.sub(r'[^\\w\\s]','',train_df.iloc[2]['Aty'])\n",
    "# s\n",
    "# aty2=[]\n",
    "# for ind, row in train_df.iterrows():\n",
    "#     aty2.append( re.sub(r'[^\\w\\s]','',train_df.iloc[ind]['Aty']))\n",
    "# train_df['Aty2'] = aty2\n",
    "# train_df"
   ]
  },
  {
   "cell_type": "code",
   "execution_count": 6,
   "metadata": {},
   "outputs": [
    {
     "data": {
      "text/html": [
       "<div>\n",
       "<style scoped>\n",
       "    .dataframe tbody tr th:only-of-type {\n",
       "        vertical-align: middle;\n",
       "    }\n",
       "\n",
       "    .dataframe tbody tr th {\n",
       "        vertical-align: top;\n",
       "    }\n",
       "\n",
       "    .dataframe thead th {\n",
       "        text-align: right;\n",
       "    }\n",
       "</style>\n",
       "<table border=\"1\" class=\"dataframe\">\n",
       "  <thead>\n",
       "    <tr style=\"text-align: right;\">\n",
       "      <th></th>\n",
       "      <th>Id</th>\n",
       "      <th>QA</th>\n",
       "      <th>Atypical_Annot</th>\n",
       "      <th>Aty</th>\n",
       "      <th>method</th>\n",
       "      <th>obj1</th>\n",
       "      <th>obj2</th>\n",
       "    </tr>\n",
       "  </thead>\n",
       "  <tbody>\n",
       "    <tr>\n",
       "      <th>7709</th>\n",
       "      <td>144890.jpg</td>\n",
       "      <td>I should wear Nike because this is what athlet...</td>\n",
       "      <td>Texture Replacement 2: The object which has a ...</td>\n",
       "      <td>body words</td>\n",
       "      <td>Texture Replacement 2</td>\n",
       "      <td>body</td>\n",
       "      <td>words</td>\n",
       "    </tr>\n",
       "    <tr>\n",
       "      <th>7710</th>\n",
       "      <td>144890.jpg</td>\n",
       "      <td>I should wear Nike because this is what athlet...</td>\n",
       "      <td>Object Replacement: The object which is placed...</td>\n",
       "      <td>text as clothes clothes</td>\n",
       "      <td>Object Replacement</td>\n",
       "      <td>text as clothes</td>\n",
       "      <td>clothes</td>\n",
       "    </tr>\n",
       "    <tr>\n",
       "      <th>7711</th>\n",
       "      <td>144890.jpg</td>\n",
       "      <td>I should buy nike brand because all these famo...</td>\n",
       "      <td>Texture Replacement 1: The object which has a ...</td>\n",
       "      <td>player player</td>\n",
       "      <td>Texture Replacement 1</td>\n",
       "      <td>player</td>\n",
       "      <td>player</td>\n",
       "    </tr>\n",
       "    <tr>\n",
       "      <th>7712</th>\n",
       "      <td>144890.jpg</td>\n",
       "      <td>I should buy nike brand because all these famo...</td>\n",
       "      <td>Texture Replacement 2: The object which has a ...</td>\n",
       "      <td>body words</td>\n",
       "      <td>Texture Replacement 2</td>\n",
       "      <td>body</td>\n",
       "      <td>words</td>\n",
       "    </tr>\n",
       "    <tr>\n",
       "      <th>7713</th>\n",
       "      <td>144890.jpg</td>\n",
       "      <td>I should buy nike brand because all these famo...</td>\n",
       "      <td>Object Replacement: The object which is placed...</td>\n",
       "      <td>text as clothes clothes</td>\n",
       "      <td>Object Replacement</td>\n",
       "      <td>text as clothes</td>\n",
       "      <td>clothes</td>\n",
       "    </tr>\n",
       "    <tr>\n",
       "      <th>...</th>\n",
       "      <td>...</td>\n",
       "      <td>...</td>\n",
       "      <td>...</td>\n",
       "      <td>...</td>\n",
       "      <td>...</td>\n",
       "      <td>...</td>\n",
       "      <td>...</td>\n",
       "    </tr>\n",
       "    <tr>\n",
       "      <th>14202</th>\n",
       "      <td>102221.jpg</td>\n",
       "      <td>I should buy Oreo cookies because Oreo cookies...</td>\n",
       "      <td>Object Replacement: The object which is placed...</td>\n",
       "      <td>oreo persons head</td>\n",
       "      <td>Object Replacement</td>\n",
       "      <td>oreo</td>\n",
       "      <td>person's head</td>\n",
       "    </tr>\n",
       "    <tr>\n",
       "      <th>14203</th>\n",
       "      <td>102221.jpg</td>\n",
       "      <td>I should buy oreo cookies because when you eat...</td>\n",
       "      <td>Object with Missing Part: The objects which ha...</td>\n",
       "      <td>person</td>\n",
       "      <td>Object with Missing Part</td>\n",
       "      <td>person</td>\n",
       "      <td>NaN</td>\n",
       "    </tr>\n",
       "    <tr>\n",
       "      <th>14204</th>\n",
       "      <td>102221.jpg</td>\n",
       "      <td>I should buy oreo cookies because when you eat...</td>\n",
       "      <td>Solid Deformed Object: The objects that have b...</td>\n",
       "      <td>a persons body tornado</td>\n",
       "      <td>Solid Deformed Object</td>\n",
       "      <td>a persons body</td>\n",
       "      <td>tornado</td>\n",
       "    </tr>\n",
       "    <tr>\n",
       "      <th>14205</th>\n",
       "      <td>102221.jpg</td>\n",
       "      <td>I should buy oreo cookies because when you eat...</td>\n",
       "      <td>Solid Deformed Object: The objects that have b...</td>\n",
       "      <td>person twisted</td>\n",
       "      <td>Solid Deformed Object</td>\n",
       "      <td>person</td>\n",
       "      <td>twisted</td>\n",
       "    </tr>\n",
       "    <tr>\n",
       "      <th>14206</th>\n",
       "      <td>102221.jpg</td>\n",
       "      <td>I should buy oreo cookies because when you eat...</td>\n",
       "      <td>Object Replacement: The object which is placed...</td>\n",
       "      <td>oreo persons head</td>\n",
       "      <td>Object Replacement</td>\n",
       "      <td>oreo</td>\n",
       "      <td>person's head</td>\n",
       "    </tr>\n",
       "  </tbody>\n",
       "</table>\n",
       "<p>6498 rows × 7 columns</p>\n",
       "</div>"
      ],
      "text/plain": [
       "               Id                                                 QA  \\\n",
       "7709   144890.jpg  I should wear Nike because this is what athlet...   \n",
       "7710   144890.jpg  I should wear Nike because this is what athlet...   \n",
       "7711   144890.jpg  I should buy nike brand because all these famo...   \n",
       "7712   144890.jpg  I should buy nike brand because all these famo...   \n",
       "7713   144890.jpg  I should buy nike brand because all these famo...   \n",
       "...           ...                                                ...   \n",
       "14202  102221.jpg  I should buy Oreo cookies because Oreo cookies...   \n",
       "14203  102221.jpg  I should buy oreo cookies because when you eat...   \n",
       "14204  102221.jpg  I should buy oreo cookies because when you eat...   \n",
       "14205  102221.jpg  I should buy oreo cookies because when you eat...   \n",
       "14206  102221.jpg  I should buy oreo cookies because when you eat...   \n",
       "\n",
       "                                          Atypical_Annot  \\\n",
       "7709   Texture Replacement 2: The object which has a ...   \n",
       "7710   Object Replacement: The object which is placed...   \n",
       "7711   Texture Replacement 1: The object which has a ...   \n",
       "7712   Texture Replacement 2: The object which has a ...   \n",
       "7713   Object Replacement: The object which is placed...   \n",
       "...                                                  ...   \n",
       "14202  Object Replacement: The object which is placed...   \n",
       "14203  Object with Missing Part: The objects which ha...   \n",
       "14204  Solid Deformed Object: The objects that have b...   \n",
       "14205  Solid Deformed Object: The objects that have b...   \n",
       "14206  Object Replacement: The object which is placed...   \n",
       "\n",
       "                           Aty                    method             obj1  \\\n",
       "7709                body words     Texture Replacement 2             body   \n",
       "7710   text as clothes clothes        Object Replacement  text as clothes   \n",
       "7711             player player     Texture Replacement 1           player   \n",
       "7712                body words     Texture Replacement 2             body   \n",
       "7713   text as clothes clothes        Object Replacement  text as clothes   \n",
       "...                        ...                       ...              ...   \n",
       "14202        oreo persons head        Object Replacement             oreo   \n",
       "14203                   person  Object with Missing Part           person   \n",
       "14204   a persons body tornado     Solid Deformed Object   a persons body   \n",
       "14205           person twisted     Solid Deformed Object           person   \n",
       "14206        oreo persons head        Object Replacement             oreo   \n",
       "\n",
       "                obj2  \n",
       "7709           words  \n",
       "7710         clothes  \n",
       "7711          player  \n",
       "7712           words  \n",
       "7713         clothes  \n",
       "...              ...  \n",
       "14202  person's head  \n",
       "14203            NaN  \n",
       "14204        tornado  \n",
       "14205        twisted  \n",
       "14206  person's head  \n",
       "\n",
       "[6498 rows x 7 columns]"
      ]
     },
     "execution_count": 6,
     "metadata": {},
     "output_type": "execute_result"
    }
   ],
   "source": [
    "\n",
    "train_df = train_df[7709:]\n",
    "train_df"
   ]
  },
  {
   "cell_type": "code",
   "execution_count": 7,
   "metadata": {},
   "outputs": [],
   "source": [
    "# # !pip3 install spacy\n",
    "# import spacy\n",
    "# nlp = spacy.load('en_core_web_sm')\n",
    "\n"
   ]
  },
  {
   "cell_type": "markdown",
   "metadata": {},
   "source": [
    "## unsupervised"
   ]
  },
  {
   "cell_type": "code",
   "execution_count": 8,
   "metadata": {},
   "outputs": [],
   "source": [
    "# # noisey data:\n",
    "# # n=121\n",
    "# # a = [tag[3:-4].lower() for tag in re.findall('<b>.{2,30}</b>', row['output'])]\n",
    "\n",
    "# i=0\n",
    "# for ind,row in train_df.iterrows():\n",
    "#     l = len(re.split('because', row['input']))\n",
    "#     if l>2:\n",
    "#         i+=1\n",
    "# #         print(l,'\\n',row['QA'])\n",
    "# i"
   ]
  },
  {
   "cell_type": "code",
   "execution_count": 9,
   "metadata": {},
   "outputs": [],
   "source": [
    "# method=[]\n",
    "# obj1=[]\n",
    "# obj2=[]\n",
    "\n",
    "# for ind,row in train_df.iterrows():\n",
    "#     method.append(row['Atypical_Annot'].split(':')[0])\n",
    "#     a = [tag[3:-4].lower() for tag in re.findall('<b>.{2,30}</b>', row['Atypical_Annot'])]\n",
    "#     try:\n",
    "#         obj1.append(a[0])\n",
    "#     except:\n",
    "#         obj1.append('')\n",
    "#     try:\n",
    "#         obj2.append(a[1])\n",
    "#     except:\n",
    "#         obj2.append('')\n",
    "            \n",
    "# train_df['method'] = method\n",
    "# train_df['obj1'] = obj1\n",
    "# train_df['obj2'] = obj2\n",
    "# train_df\n"
   ]
  },
  {
   "cell_type": "code",
   "execution_count": 10,
   "metadata": {},
   "outputs": [
    {
     "name": "stdout",
     "output_type": "stream",
     "text": [
      "I should use Neutrogena Deep Clean Because Neutrogena Deep Clean Because will make my skin more youthful and clean.\n",
      "I should use Neutrogena Deep Clean because will make my skin more youthful and clean.\n"
     ]
    }
   ],
   "source": [
    "s = 'I should use Neutrogena Deep Clean Because Neutrogena Deep Clean Because will make my skin more youthful and clean.'\n",
    "s = 'I should use Neutrogena Deep Clean Because Neutrogena Deep Clean Because will make my skin more youthful and clean.'\n",
    "print(s)\n",
    "print(re.sub('Because.*Because', 'because', s))"
   ]
  },
  {
   "cell_type": "code",
   "execution_count": 11,
   "metadata": {},
   "outputs": [
    {
     "name": "stdout",
     "output_type": "stream",
     "text": [
      "6760 6760\n"
     ]
    },
    {
     "data": {
      "text/html": [
       "<div>\n",
       "<style scoped>\n",
       "    .dataframe tbody tr th:only-of-type {\n",
       "        vertical-align: middle;\n",
       "    }\n",
       "\n",
       "    .dataframe tbody tr th {\n",
       "        vertical-align: top;\n",
       "    }\n",
       "\n",
       "    .dataframe thead th {\n",
       "        text-align: right;\n",
       "    }\n",
       "</style>\n",
       "<table border=\"1\" class=\"dataframe\">\n",
       "  <thead>\n",
       "    <tr style=\"text-align: right;\">\n",
       "      <th></th>\n",
       "      <th>QA</th>\n",
       "      <th>Atypical_Annot</th>\n",
       "    </tr>\n",
       "  </thead>\n",
       "  <tbody>\n",
       "    <tr>\n",
       "      <th>0</th>\n",
       "      <td>should wear Nike because this is what athlete...</td>\n",
       "      <td>exture Replacement 2: The object which has a n...</td>\n",
       "    </tr>\n",
       "    <tr>\n",
       "      <th>1</th>\n",
       "      <td>should wear Nike because this is what athlete...</td>\n",
       "      <td>bject Replacement: The object which is placed ...</td>\n",
       "    </tr>\n",
       "    <tr>\n",
       "      <th>2</th>\n",
       "      <td>should buy nike brand because all these famou...</td>\n",
       "      <td>exture Replacement 1: The object which has a n...</td>\n",
       "    </tr>\n",
       "    <tr>\n",
       "      <th>3</th>\n",
       "      <td>which means I should too</td>\n",
       "      <td>exture Replacement 1: The object which has a n...</td>\n",
       "    </tr>\n",
       "    <tr>\n",
       "      <th>4</th>\n",
       "      <td>should buy nike brand because all these famou...</td>\n",
       "      <td>exture Replacement 2: The object which has a n...</td>\n",
       "    </tr>\n",
       "    <tr>\n",
       "      <th>...</th>\n",
       "      <td>...</td>\n",
       "      <td>...</td>\n",
       "    </tr>\n",
       "    <tr>\n",
       "      <th>6755</th>\n",
       "      <td>should buy Oreo cookies because Oreo cookies ...</td>\n",
       "      <td>bject Replacement: The object which is placed ...</td>\n",
       "    </tr>\n",
       "    <tr>\n",
       "      <th>6756</th>\n",
       "      <td>should buy oreo cookies because when you eat ...</td>\n",
       "      <td>bject with Missing Part: The objects which hav...</td>\n",
       "    </tr>\n",
       "    <tr>\n",
       "      <th>6757</th>\n",
       "      <td>should buy oreo cookies because when you eat ...</td>\n",
       "      <td>olid Deformed Object: The objects that have be...</td>\n",
       "    </tr>\n",
       "    <tr>\n",
       "      <th>6758</th>\n",
       "      <td>should buy oreo cookies because when you eat ...</td>\n",
       "      <td>olid Deformed Object: The objects that have be...</td>\n",
       "    </tr>\n",
       "    <tr>\n",
       "      <th>6759</th>\n",
       "      <td>should buy oreo cookies because when you eat ...</td>\n",
       "      <td>bject Replacement: The object which is placed ...</td>\n",
       "    </tr>\n",
       "  </tbody>\n",
       "</table>\n",
       "<p>6760 rows × 2 columns</p>\n",
       "</div>"
      ],
      "text/plain": [
       "                                                     QA  \\\n",
       "0      should wear Nike because this is what athlete...   \n",
       "1      should wear Nike because this is what athlete...   \n",
       "2      should buy nike brand because all these famou...   \n",
       "3                              which means I should too   \n",
       "4      should buy nike brand because all these famou...   \n",
       "...                                                 ...   \n",
       "6755   should buy Oreo cookies because Oreo cookies ...   \n",
       "6756   should buy oreo cookies because when you eat ...   \n",
       "6757   should buy oreo cookies because when you eat ...   \n",
       "6758   should buy oreo cookies because when you eat ...   \n",
       "6759   should buy oreo cookies because when you eat ...   \n",
       "\n",
       "                                         Atypical_Annot  \n",
       "0     exture Replacement 2: The object which has a n...  \n",
       "1     bject Replacement: The object which is placed ...  \n",
       "2     exture Replacement 1: The object which has a n...  \n",
       "3     exture Replacement 1: The object which has a n...  \n",
       "4     exture Replacement 2: The object which has a n...  \n",
       "...                                                 ...  \n",
       "6755  bject Replacement: The object which is placed ...  \n",
       "6756  bject with Missing Part: The objects which hav...  \n",
       "6757  olid Deformed Object: The objects that have be...  \n",
       "6758  olid Deformed Object: The objects that have be...  \n",
       "6759  bject Replacement: The object which is placed ...  \n",
       "\n",
       "[6760 rows x 2 columns]"
      ]
     },
     "execution_count": 11,
     "metadata": {},
     "output_type": "execute_result"
    }
   ],
   "source": [
    "# print((train_df.iloc[0]['QA']), \"\\n\\n\", train_df.iloc[0]['Atypical_Annot'])\n",
    "i=0\n",
    "Q=[]\n",
    "R=[]\n",
    "for ind,row in train_df.iterrows():\n",
    "#     print(len([sen[1:-1]  for sen in row['QA'][1:-1].split(',')]),[sen[1:-1]  for sen in row['QA'][1:-1].split(',')], \"\\n\")\n",
    "#     print(len([sen[1:-1]  for sen in row['Atypical_Annot'][1:-1].split(',')]),[sen[1:-1]  for sen in row['Atypical_Annot'][1:-1].split(',')], \"\\n\")\n",
    "\n",
    "    \n",
    "    \n",
    "    \n",
    "    for q in [sen  for sen in row['QA'][1:-1].split(',')]:\n",
    "        for r in [sen  for sen in row['Atypical_Annot'][1:-1].split(',')]:\n",
    "            r = r.replace('<b>','')\n",
    "            r = r.replace('</b>','')\n",
    "#             print(q,'\\n',r)\n",
    "#             print(\"***\")\n",
    "            Q.append(q)\n",
    "            R.append(r)\n",
    "\n",
    "#     print(\"____________\")\n",
    "\n",
    "#     i+=1\n",
    "#     if i==3:\n",
    "#         break\n",
    "#     break\n",
    "print(len(Q),len(R))\n",
    "train_df = pd.DataFrame(data = {'QA':Q, 'Atypical_Annot':R})\n",
    "train_df"
   ]
  },
  {
   "cell_type": "markdown",
   "metadata": {
    "id": "j_dPYbsVK5zO"
   },
   "source": [
    "Trimming off a few data points and so that a batch would not leave any remainder, hence some lines of codes can be avoided (Okay, this might be a hackish way of doing it )"
   ]
  },
  {
   "cell_type": "markdown",
   "metadata": {
    "id": "9kfjkXbiKeyU"
   },
   "source": [
    "Checking for the GPU availability"
   ]
  },
  {
   "cell_type": "code",
   "execution_count": 3,
   "metadata": {
    "colab": {
     "base_uri": "https://localhost:8080/"
    },
    "executionInfo": {
     "elapsed": 16608,
     "status": "ok",
     "timestamp": 1620557660594,
     "user": {
      "displayName": "Maryam Eslami",
      "photoUrl": "https://lh3.googleusercontent.com/a-/AOh14GiGTp1Dz0kaWLFJ344rblcuX-kGwj723ddjPFPf3w=s64",
      "userId": "12769757341109071893"
     },
     "user_tz": -270
    },
    "id": "dVTPejFZTDUn",
    "outputId": "c24372d2-49fc-4f18-826e-908d960073ef"
   },
   "outputs": [
    {
     "name": "stdout",
     "output_type": "stream",
     "text": [
      "4.8.2\n",
      "2.6.0\n",
      "1.9.0+cu102\n",
      "Running on the GPU\n",
      "cuda:0\n",
      "/device:GPU:0\n",
      "Num GPUs Available:  1\n"
     ]
    }
   ],
   "source": [
    "\n",
    "import transformers\n",
    "print(transformers.__version__)\n",
    "\n",
    "\n",
    "# !pip3 install tensorflow\n",
    "import tensorflow\n",
    "print(tensorflow.__version__)\n",
    "\n",
    "\n",
    "import torch\n",
    "print(torch.__version__)\n",
    "\n",
    "\n",
    "import torch\n",
    "if torch.cuda.is_available():\n",
    "    dev = torch.device(\"cuda:0\") \n",
    "    print(\"Running on the GPU\")\n",
    "else:\n",
    "    dev = torch.device(\"cpu\")\n",
    "    print(\"Running on the CPU\")\n",
    "    \n",
    "print( torch.device(\"cuda:0\" if torch.cuda.is_available() else \"cpu\"))\n",
    "import tensorflow as tf\n",
    "print(tf.test.gpu_device_name())\n",
    "print(\"Num GPUs Available: \", len(tf.config.list_physical_devices('GPU')))\n"
   ]
  },
  {
   "cell_type": "markdown",
   "metadata": {
    "id": "_JaUpURdLAla"
   },
   "source": [
    "## Loading the pretrained model and tokenizer"
   ]
  },
  {
   "cell_type": "code",
   "execution_count": 3,
   "metadata": {
    "colab": {
     "base_uri": "https://localhost:8080/"
    },
    "executionInfo": {
     "elapsed": 24783,
     "status": "ok",
     "timestamp": 1620557668776,
     "user": {
      "displayName": "Maryam Eslami",
      "photoUrl": "https://lh3.googleusercontent.com/a-/AOh14GiGTp1Dz0kaWLFJ344rblcuX-kGwj723ddjPFPf3w=s64",
      "userId": "12769757341109071893"
     },
     "user_tz": -270
    },
    "id": "xVAXjd6wsOM6",
    "outputId": "5b65d579-0601-41a6-9d7f-416d9ea1b675"
   },
   "outputs": [
    {
     "name": "stdout",
     "output_type": "stream",
     "text": [
      "<class 'transformers.models.t5.tokenization_t5.T5Tokenizer'>\n"
     ]
    }
   ],
   "source": [
    "# !pip install transformers==2.9.0 \n",
    "# !pip install pytorch_lightning==0.7.5\n",
    "# !pip install sentencepiece\n",
    "import sentencepiece\n",
    "tokenizer = T5Tokenizer.from_pretrained('t5-small', local_files_only=True)\n",
    "model = T5ForConditionalGeneration.from_pretrained('t5-small', local_files_only=True)#, return_dict=True)\n",
    "#moving the model to device(GPU/CPU)\n",
    "model.to(dev)\n",
    "print(type(tokenizer))"
   ]
  },
  {
   "cell_type": "code",
   "execution_count": 4,
   "metadata": {
    "scrolled": true
   },
   "outputs": [
    {
     "name": "stdout",
     "output_type": "stream",
     "text": [
      "<class 'transformers.models.t5.tokenization_t5.T5Tokenizer'>\n"
     ]
    }
   ],
   "source": [
    "# !pip install transformers==2.9.0 \n",
    "# !pip install pytorch_lightning==0.7.5\n",
    "# !pip install sentencepiece\n",
    "import sentencepiece\n",
    "# tokenizer = T5Tokenizer.from_pretrained('t5-base')#, local_files_only=True)\n",
    "# tokenizer = T5Tokenizer.from_pretrained('t5-small', local_files_only=True)\n",
    "\n",
    "model = T5ForConditionalGeneration.from_pretrained('t5-base', local_files_only=True)#, return_dict=True)\n",
    "#moving the model to device(GPU/CPU)\n",
    "model.to(dev)\n",
    "print(type(tokenizer))"
   ]
  },
  {
   "cell_type": "markdown",
   "metadata": {
    "id": "C4oqM6giLLg4"
   },
   "source": [
    "## Initializing the Adafactor optimizer with parameter values suggested for t5"
   ]
  },
  {
   "cell_type": "code",
   "execution_count": 9,
   "metadata": {
    "executionInfo": {
     "elapsed": 24774,
     "status": "ok",
     "timestamp": 1620557668779,
     "user": {
      "displayName": "Maryam Eslami",
      "photoUrl": "https://lh3.googleusercontent.com/a-/AOh14GiGTp1Dz0kaWLFJ344rblcuX-kGwj723ddjPFPf3w=s64",
      "userId": "12769757341109071893"
     },
     "user_tz": -270
    },
    "id": "1KmOzTQj0E7L"
   },
   "outputs": [
    {
     "name": "stdout",
     "output_type": "stream",
     "text": [
      "2 7103 1\n"
     ]
    }
   ],
   "source": [
    "\n",
    "optimizer = Adafactor(\n",
    "    model.parameters(),\n",
    "    lr=1e-3,#1e-3,\n",
    "    eps=(1e-30, 1e-3),\n",
    "    clip_threshold=1.0,\n",
    "    decay_rate=-0.8,\n",
    "    beta1=None,\n",
    "    weight_decay=0.0,\n",
    "    relative_step=False,\n",
    "    scale_parameter=False,\n",
    "    warmup_init=False\n",
    ")\n",
    "# ------------------------------------------------------------    \n",
    "batch_size=2\n",
    "num_of_batches=len(train_df)/batch_size\n",
    "num_of_epochs=1\n",
    "num_of_batches=int(num_of_batches)\n",
    "print(batch_size, num_of_batches, num_of_epochs)\n",
    "# ------------------------------------------------------------    \n",
    "from IPython.display import HTML, display\n",
    "def progress(loss,value, max=100):\n",
    "    return HTML(\"\"\" Batch loss :{loss}\n",
    "        <progress\n",
    "            value='{value}'\n",
    "            max='{max}',\n",
    "            style='width: 100%'\n",
    "        >\n",
    "            {value}\n",
    "        </progress>\n",
    "    \"\"\".format(loss=loss,value=value, max=max))\n"
   ]
  },
  {
   "cell_type": "markdown",
   "metadata": {
    "id": "hMe1hKshLgJn"
   },
   "source": [
    "## Training the model"
   ]
  },
  {
   "cell_type": "code",
   "execution_count": null,
   "metadata": {
    "colab": {
     "background_save": true,
     "base_uri": "https://localhost:8080/",
     "height": 68
    },
    "id": "qTvda_lWx2nC"
   },
   "outputs": [
    {
     "name": "stdout",
     "output_type": "stream",
     "text": [
      "Running epoch: 1\n"
     ]
    },
    {
     "data": {
      "text/html": [
       " Batch loss :8.735116004943848\n",
       "        <progress\n",
       "            value='4656'\n",
       "            max='7104',\n",
       "            style='width: 100%'\n",
       "        >\n",
       "            4656\n",
       "        </progress>\n",
       "    "
      ],
      "text/plain": [
       "<IPython.core.display.HTML object>"
      ]
     },
     "metadata": {},
     "output_type": "display_data"
    },
    {
     "name": "stderr",
     "output_type": "stream",
     "text": [
      "IOPub message rate exceeded.\n",
      "The notebook server will temporarily stop sending output\n",
      "to the client in order to avoid crashing it.\n",
      "To change this limit, set the config variable\n",
      "`--NotebookApp.iopub_msg_rate_limit`.\n",
      "\n",
      "Current values:\n",
      "NotebookApp.iopub_msg_rate_limit=1000.0 (msgs/sec)\n",
      "NotebookApp.rate_limit_window=3.0 (secs)\n",
      "\n"
     ]
    }
   ],
   "source": [
    "#Sets the module in training mode\n",
    "# tokenizer = T5Tokenizer.from_pretrained('t5-small', local_files_only=True)\n",
    "model = T5ForConditionalGeneration.from_pretrained('t5-small', local_files_only=True)#, return_dict=True)\n",
    "#moving the model to device(GPU/CPU)\n",
    "model.to(dev)\n",
    "\n",
    "model.train()\n",
    "model.to(dev)\n",
    "num_of_epochs=3\n",
    "\n",
    "loss_per_10_steps=[]\n",
    "for epoch in range(1,num_of_epochs+1):\n",
    "  print('Running epoch: {}'.format(epoch))\n",
    "  \n",
    "  running_loss=0\n",
    "\n",
    "  out = display(progress(1, num_of_batches+1), display_id=True)\n",
    "  for i in range(num_of_batches):\n",
    "    inputbatch=[]\n",
    "    labelbatch=[]\n",
    "    new_df=train_df[i*batch_size:i*batch_size+batch_size]\n",
    "    for indx,row in new_df.iterrows():\n",
    "        \n",
    "#       # unsupervised:\n",
    "#       input = row['input'][:512]\n",
    "#       labels = row['output'][:512]\n",
    "        # supervised:\n",
    "      input = row['QA'][:511]+' </s>' \n",
    "      labels = row['Atypical_Annot2'][:511]+' </s>'\n",
    "      \n",
    "\n",
    "#       input = 'QA: '+row['QA'][:511]+'</s>' \n",
    "#       labels = '<b>'+ row['Aty'][1:-1] +'</b>'\n",
    "\n",
    "\n",
    "#       t = row['Atypical_Annot'][:511].replace(\"<b>\",\"\")\n",
    "#       t = t.replace('</b>','')\n",
    "#       labels = t+'</s>'   \n",
    "#       labels = row['Atypical_Annot'][:511]+'</s>'\n",
    "#       labels = '<b>'+ row['Aty'][1:-1] +'</b>'\n",
    "#       input = 'WebNLG: '+row['input_text']+'</s>' \n",
    "#       labels = row['target_text']+'</s>'   \n",
    "      inputbatch.append(input)\n",
    "      labelbatch.append(labels)\n",
    "    inputbatch=tokenizer.batch_encode_plus(inputbatch,padding=True,pad_to_max_length=True,return_tensors='pt')[\"input_ids\"]\n",
    "    labelbatch=tokenizer.batch_encode_plus(labelbatch,padding=True,pad_to_max_length=True,return_tensors=\"pt\") [\"input_ids\"]\n",
    "    inputbatch=inputbatch.to(dev)\n",
    "    labelbatch=labelbatch.to(dev)\n",
    "\n",
    "    # clear out the gradients of all Variables \n",
    "    optimizer.zero_grad()\n",
    "\n",
    "    # Forward propogation\n",
    "    outputs = model(input_ids=inputbatch, labels=labelbatch)\n",
    "    loss = outputs.loss\n",
    "    loss_num=loss.item()\n",
    "    logits = outputs.logits\n",
    "    running_loss+=loss_num\n",
    "    if i%10 ==0:      \n",
    "      loss_per_10_steps.append(loss_num)\n",
    "    out.update(progress(loss_num,i, num_of_batches+1))\n",
    "\n",
    "    # calculating the gradients\n",
    "    loss.backward()\n",
    "\n",
    "    #updating the params\n",
    "    optimizer.step()\n",
    "    \n",
    "  running_loss=running_loss/int(num_of_batches)\n",
    "  print('Epoch: {} , Running loss: {}'.format(epoch,running_loss))\n"
   ]
  },
  {
   "cell_type": "code",
   "execution_count": 10,
   "metadata": {},
   "outputs": [],
   "source": [
    "def train_model(inputdata, pretrain,file_name,key_in, key_out, n_epochs):\n",
    "    tokenizer = T5Tokenizer.from_pretrained('t5-small', local_files_only=True)\n",
    "    model = T5ForConditionalGeneration.from_pretrained(pretrain, local_files_only=True)#, return_dict=True)\n",
    "    model.to(dev)\n",
    "    \n",
    "    model.train()\n",
    "    num_of_epochs=n_epochs\n",
    "    train_df = pd.read_csv(inputdata)\n",
    "    train_df = train_df.fillna('')\n",
    "\n",
    "\n",
    "    loss_per_10_steps=[]\n",
    "    for epoch in range(1,num_of_epochs+1):\n",
    "        print('Running epoch: {}'.format(epoch))\n",
    "\n",
    "        running_loss=0\n",
    "\n",
    "        out = display(progress(1, num_of_batches+1), display_id=True)\n",
    "        for i in range(num_of_batches):\n",
    "            inputbatch=[]\n",
    "            labelbatch=[]\n",
    "            new_df=train_df[i*batch_size:i*batch_size+batch_size]\n",
    "            for indx,row in new_df.iterrows():\n",
    "                #pre processing:\n",
    "                input = row[key_in][:511]+'</s>' \n",
    "                labels = row[key_out][:511]+'</s>'\n",
    "                \n",
    "                inputbatch.append(input)\n",
    "                labelbatch.append(labels)\n",
    "            if not inputbatch:\n",
    "                break\n",
    "            inputbatch=tokenizer.batch_encode_plus(inputbatch,padding=True,pad_to_max_length=True,return_tensors='pt')[\"input_ids\"]\n",
    "            labelbatch=tokenizer.batch_encode_plus(labelbatch,padding=True,pad_to_max_length=True,return_tensors=\"pt\") [\"input_ids\"]\n",
    "            inputbatch=inputbatch.to(dev)\n",
    "            labelbatch=labelbatch.to(dev)\n",
    "\n",
    "            # clear out the gradients of all Variables \n",
    "            optimizer.zero_grad()\n",
    "\n",
    "            # Forward propogation\n",
    "            outputs = model(input_ids=inputbatch, labels=labelbatch)\n",
    "            loss = outputs.loss\n",
    "            loss_num=loss.item()\n",
    "            logits = outputs.logits\n",
    "            running_loss+=loss_num\n",
    "            if i%10 ==0:      \n",
    "                loss_per_10_steps.append(loss_num)\n",
    "            out.update(progress(loss_num,i, num_of_batches+1))\n",
    "\n",
    "            # calculating the gradients\n",
    "            loss.backward()\n",
    "\n",
    "            #updating the params\n",
    "            optimizer.step()\n",
    "\n",
    "        running_loss=running_loss/int(num_of_batches)\n",
    "        print('Epoch: {} , Running loss: {}'.format(epoch,running_loss))\n",
    "        \n",
    "\n",
    "        \n",
    "    #show plt\n",
    "    steps = [i*100 for i in range(len(loss_per_10_steps))]\n",
    "    plt.plot(steps, loss_per_10_steps)\n",
    "    plt.title('Loss')\n",
    "    plt.xlabel('Steps')\n",
    "    plt.ylabel('Loss')\n",
    "    plt.show()\n",
    "    plt.savefig(file_name+'.png')\n",
    "    \n",
    "    #save model\n",
    "    model.save_pretrained(file_name+\".h5\")\n",
    "    \n",
    "    return model\n",
    "\n",
    "\n"
   ]
  },
  {
   "cell_type": "code",
   "execution_count": null,
   "metadata": {},
   "outputs": [],
   "source": [
    "# train all them in one model!\n",
    "####def train_model(inputdata, pretrain,file_name,key_in, key_out, n_epochs):\n",
    "\n",
    "# high loss shows it's not learn able\n",
    "# no difference between 1 or 5 epochs:\n",
    "# model1 = train_model('aty.csv','t5-small','t5_step9_b1_27_8_2021','Atypical_Annot', 'Aty2', 5) \n",
    "\n",
    "\n",
    "# not converging too. nor for 1 or 5 epochs\n",
    "# model2 = train_model('unsupervised.csv','t5_step9_b1_27_8_2021.h5','t5_step9_b2_27_8_2021','input', 'output', 5)\n",
    "\n",
    "\n",
    "# not converging too. nor for 1 or 5 epochs\n",
    "model3 = train_model('aty.csv','t5-small','t5_step9_b3_27_8_2021','QA', 'Atypical_Annot', 5)\n"
   ]
  },
  {
   "cell_type": "code",
   "execution_count": null,
   "metadata": {
    "scrolled": true
   },
   "outputs": [
    {
     "name": "stdout",
     "output_type": "stream",
     "text": [
      "Running epoch: 1\n"
     ]
    },
    {
     "data": {
      "text/html": [
       " Batch loss :8.463214874267578\n",
       "        <progress\n",
       "            value='3953'\n",
       "            max='7104',\n",
       "            style='width: 100%'\n",
       "        >\n",
       "            3953\n",
       "        </progress>\n",
       "    "
      ],
      "text/plain": [
       "<IPython.core.display.HTML object>"
      ]
     },
     "metadata": {},
     "output_type": "display_data"
    }
   ],
   "source": [
    "\n",
    "# not converging too. nor for 1 or 5 epochs\n",
    "model2 = train_model('unsupervised.csv','t5-small','t5_step9_b3_27_8_2021','input', 'output', 20)\n",
    "\n"
   ]
  },
  {
   "cell_type": "code",
   "execution_count": null,
   "metadata": {},
   "outputs": [],
   "source": [
    "\n",
    "# not converging too. nor for 1 or 5 epochs\n",
    "model3 = train_model('aty.csv','t5_step9_b3_27_8_2021.h5','t5_step9_b3_27_8_2021','QA', 'Atypical_Annot', 20)\n"
   ]
  },
  {
   "cell_type": "code",
   "execution_count": 6,
   "metadata": {
    "scrolled": true
   },
   "outputs": [
    {
     "name": "stdout",
     "output_type": "stream",
     "text": [
      "Running epoch: 1\n"
     ]
    },
    {
     "data": {
      "text/html": [
       " Batch loss :8.25319766998291\n",
       "        <progress\n",
       "            value='1774'\n",
       "            max='1776',\n",
       "            style='width: 100%'\n",
       "        >\n",
       "            1774\n",
       "        </progress>\n",
       "    "
      ],
      "text/plain": [
       "<IPython.core.display.HTML object>"
      ]
     },
     "metadata": {},
     "output_type": "display_data"
    },
    {
     "name": "stdout",
     "output_type": "stream",
     "text": [
      "Epoch: 1 , Running loss: 9.485981562171183\n",
      "Running epoch: 2\n"
     ]
    },
    {
     "data": {
      "text/html": [
       " Batch loss :6.239689826965332\n",
       "        <progress\n",
       "            value='1774'\n",
       "            max='1776',\n",
       "            style='width: 100%'\n",
       "        >\n",
       "            1774\n",
       "        </progress>\n",
       "    "
      ],
      "text/plain": [
       "<IPython.core.display.HTML object>"
      ]
     },
     "metadata": {},
     "output_type": "display_data"
    },
    {
     "name": "stdout",
     "output_type": "stream",
     "text": [
      "Epoch: 2 , Running loss: 9.527599294017739\n",
      "Running epoch: 3\n"
     ]
    },
    {
     "data": {
      "text/html": [
       " Batch loss :5.578923225402832\n",
       "        <progress\n",
       "            value='1774'\n",
       "            max='1776',\n",
       "            style='width: 100%'\n",
       "        >\n",
       "            1774\n",
       "        </progress>\n",
       "    "
      ],
      "text/plain": [
       "<IPython.core.display.HTML object>"
      ]
     },
     "metadata": {},
     "output_type": "display_data"
    },
    {
     "name": "stdout",
     "output_type": "stream",
     "text": [
      "Epoch: 3 , Running loss: 9.441954496141891\n",
      "Running epoch: 4\n"
     ]
    },
    {
     "data": {
      "text/html": [
       " Batch loss :7.932492256164551\n",
       "        <progress\n",
       "            value='1774'\n",
       "            max='1776',\n",
       "            style='width: 100%'\n",
       "        >\n",
       "            1774\n",
       "        </progress>\n",
       "    "
      ],
      "text/plain": [
       "<IPython.core.display.HTML object>"
      ]
     },
     "metadata": {},
     "output_type": "display_data"
    },
    {
     "name": "stdout",
     "output_type": "stream",
     "text": [
      "Epoch: 4 , Running loss: 9.547300226184683\n",
      "Running epoch: 5\n"
     ]
    },
    {
     "data": {
      "text/html": [
       " Batch loss :7.419973850250244\n",
       "        <progress\n",
       "            value='1774'\n",
       "            max='1776',\n",
       "            style='width: 100%'\n",
       "        >\n",
       "            1774\n",
       "        </progress>\n",
       "    "
      ],
      "text/plain": [
       "<IPython.core.display.HTML object>"
      ]
     },
     "metadata": {},
     "output_type": "display_data"
    },
    {
     "name": "stdout",
     "output_type": "stream",
     "text": [
      "Epoch: 5 , Running loss: 9.543375372147896\n",
      "Running epoch: 6\n"
     ]
    },
    {
     "data": {
      "text/html": [
       " Batch loss :8.02518081665039\n",
       "        <progress\n",
       "            value='1774'\n",
       "            max='1776',\n",
       "            style='width: 100%'\n",
       "        >\n",
       "            1774\n",
       "        </progress>\n",
       "    "
      ],
      "text/plain": [
       "<IPython.core.display.HTML object>"
      ]
     },
     "metadata": {},
     "output_type": "display_data"
    },
    {
     "name": "stdout",
     "output_type": "stream",
     "text": [
      "Epoch: 6 , Running loss: 9.501141243383918\n",
      "Running epoch: 7\n"
     ]
    },
    {
     "data": {
      "text/html": [
       " Batch loss :6.21579647064209\n",
       "        <progress\n",
       "            value='1774'\n",
       "            max='1776',\n",
       "            style='width: 100%'\n",
       "        >\n",
       "            1774\n",
       "        </progress>\n",
       "    "
      ],
      "text/plain": [
       "<IPython.core.display.HTML object>"
      ]
     },
     "metadata": {},
     "output_type": "display_data"
    },
    {
     "name": "stdout",
     "output_type": "stream",
     "text": [
      "Epoch: 7 , Running loss: 9.466414746969518\n",
      "Running epoch: 8\n"
     ]
    },
    {
     "data": {
      "text/html": [
       " Batch loss :6.141941070556641\n",
       "        <progress\n",
       "            value='1774'\n",
       "            max='1776',\n",
       "            style='width: 100%'\n",
       "        >\n",
       "            1774\n",
       "        </progress>\n",
       "    "
      ],
      "text/plain": [
       "<IPython.core.display.HTML object>"
      ]
     },
     "metadata": {},
     "output_type": "display_data"
    },
    {
     "name": "stdout",
     "output_type": "stream",
     "text": [
      "Epoch: 8 , Running loss: 9.474585341466984\n",
      "Running epoch: 9\n"
     ]
    },
    {
     "data": {
      "text/html": [
       " Batch loss :7.716349124908447\n",
       "        <progress\n",
       "            value='1774'\n",
       "            max='1776',\n",
       "            style='width: 100%'\n",
       "        >\n",
       "            1774\n",
       "        </progress>\n",
       "    "
      ],
      "text/plain": [
       "<IPython.core.display.HTML object>"
      ]
     },
     "metadata": {},
     "output_type": "display_data"
    },
    {
     "name": "stdout",
     "output_type": "stream",
     "text": [
      "Epoch: 9 , Running loss: 9.496275417703977\n",
      "Running epoch: 10\n"
     ]
    },
    {
     "data": {
      "text/html": [
       " Batch loss :7.143899440765381\n",
       "        <progress\n",
       "            value='1774'\n",
       "            max='1776',\n",
       "            style='width: 100%'\n",
       "        >\n",
       "            1774\n",
       "        </progress>\n",
       "    "
      ],
      "text/plain": [
       "<IPython.core.display.HTML object>"
      ]
     },
     "metadata": {},
     "output_type": "display_data"
    },
    {
     "name": "stdout",
     "output_type": "stream",
     "text": [
      "Epoch: 10 , Running loss: 9.497935727750752\n",
      "Running epoch: 11\n"
     ]
    },
    {
     "data": {
      "text/html": [
       " Batch loss :12.06266975402832\n",
       "        <progress\n",
       "            value='132'\n",
       "            max='1776',\n",
       "            style='width: 100%'\n",
       "        >\n",
       "            132\n",
       "        </progress>\n",
       "    "
      ],
      "text/plain": [
       "<IPython.core.display.HTML object>"
      ]
     },
     "metadata": {},
     "output_type": "display_data"
    },
    {
     "ename": "KeyboardInterrupt",
     "evalue": "",
     "output_type": "error",
     "traceback": [
      "\u001b[0;31m---------------------------------------------------------------------------\u001b[0m",
      "\u001b[0;31mKeyboardInterrupt\u001b[0m                         Traceback (most recent call last)",
      "\u001b[0;32m<ipython-input-6-62996894b7d4>\u001b[0m in \u001b[0;36m<module>\u001b[0;34m()\u001b[0m\n\u001b[0;32m----> 1\u001b[0;31m \u001b[0mmodel3\u001b[0m \u001b[0;34m=\u001b[0m \u001b[0mtrain_model\u001b[0m\u001b[0;34m(\u001b[0m\u001b[0;34m'aty.csv'\u001b[0m\u001b[0;34m,\u001b[0m\u001b[0;34m't5-small'\u001b[0m\u001b[0;34m,\u001b[0m\u001b[0;34m't5_step10_3_9_2021'\u001b[0m\u001b[0;34m,\u001b[0m\u001b[0;34m'Atypical_Annot'\u001b[0m\u001b[0;34m,\u001b[0m \u001b[0;34m'obj2'\u001b[0m\u001b[0;34m,\u001b[0m \u001b[0;36m20\u001b[0m\u001b[0;34m)\u001b[0m\u001b[0;34m\u001b[0m\u001b[0;34m\u001b[0m\u001b[0m\n\u001b[0m\u001b[1;32m      2\u001b[0m \u001b[0;31m# model4 = train_model('aty.csv','t5_step10_3_9_2021.h5','t5_step10_3_9_2021','Atypical_Annot', 'obj1', 1)\u001b[0m\u001b[0;34m\u001b[0m\u001b[0;34m\u001b[0m\u001b[0;34m\u001b[0m\u001b[0m\n\u001b[1;32m      3\u001b[0m \u001b[0;31m# model4 = train_model('aty.csv','t5_step10_3_9_2021.h5','t5_step10_3_9_2021','Atypical_Annot', 'obj2', 1)\u001b[0m\u001b[0;34m\u001b[0m\u001b[0;34m\u001b[0m\u001b[0;34m\u001b[0m\u001b[0m\n",
      "\u001b[0;32m<ipython-input-5-a21ccc4b8243>\u001b[0m in \u001b[0;36mtrain_model\u001b[0;34m(inputdata, pretrain, file_name, key_in, key_out, n_epochs)\u001b[0m\n\u001b[1;32m     37\u001b[0m \u001b[0;34m\u001b[0m\u001b[0m\n\u001b[1;32m     38\u001b[0m             \u001b[0;31m# Forward propogation\u001b[0m\u001b[0;34m\u001b[0m\u001b[0;34m\u001b[0m\u001b[0;34m\u001b[0m\u001b[0m\n\u001b[0;32m---> 39\u001b[0;31m             \u001b[0moutputs\u001b[0m \u001b[0;34m=\u001b[0m \u001b[0mmodel\u001b[0m\u001b[0;34m(\u001b[0m\u001b[0minput_ids\u001b[0m\u001b[0;34m=\u001b[0m\u001b[0minputbatch\u001b[0m\u001b[0;34m,\u001b[0m \u001b[0mlabels\u001b[0m\u001b[0;34m=\u001b[0m\u001b[0mlabelbatch\u001b[0m\u001b[0;34m)\u001b[0m\u001b[0;34m\u001b[0m\u001b[0;34m\u001b[0m\u001b[0m\n\u001b[0m\u001b[1;32m     40\u001b[0m             \u001b[0mloss\u001b[0m \u001b[0;34m=\u001b[0m \u001b[0moutputs\u001b[0m\u001b[0;34m.\u001b[0m\u001b[0mloss\u001b[0m\u001b[0;34m\u001b[0m\u001b[0;34m\u001b[0m\u001b[0m\n\u001b[1;32m     41\u001b[0m             \u001b[0mloss_num\u001b[0m\u001b[0;34m=\u001b[0m\u001b[0mloss\u001b[0m\u001b[0;34m.\u001b[0m\u001b[0mitem\u001b[0m\u001b[0;34m(\u001b[0m\u001b[0;34m)\u001b[0m\u001b[0;34m\u001b[0m\u001b[0;34m\u001b[0m\u001b[0m\n",
      "\u001b[0;32m/home/m_eslami/.local/lib/python3.6/site-packages/torch/nn/modules/module.py\u001b[0m in \u001b[0;36m_call_impl\u001b[0;34m(self, *input, **kwargs)\u001b[0m\n\u001b[1;32m   1049\u001b[0m         if not (self._backward_hooks or self._forward_hooks or self._forward_pre_hooks or _global_backward_hooks\n\u001b[1;32m   1050\u001b[0m                 or _global_forward_hooks or _global_forward_pre_hooks):\n\u001b[0;32m-> 1051\u001b[0;31m             \u001b[0;32mreturn\u001b[0m \u001b[0mforward_call\u001b[0m\u001b[0;34m(\u001b[0m\u001b[0;34m*\u001b[0m\u001b[0minput\u001b[0m\u001b[0;34m,\u001b[0m \u001b[0;34m**\u001b[0m\u001b[0mkwargs\u001b[0m\u001b[0;34m)\u001b[0m\u001b[0;34m\u001b[0m\u001b[0;34m\u001b[0m\u001b[0m\n\u001b[0m\u001b[1;32m   1052\u001b[0m         \u001b[0;31m# Do not call functions when jit is used\u001b[0m\u001b[0;34m\u001b[0m\u001b[0;34m\u001b[0m\u001b[0;34m\u001b[0m\u001b[0m\n\u001b[1;32m   1053\u001b[0m         \u001b[0mfull_backward_hooks\u001b[0m\u001b[0;34m,\u001b[0m \u001b[0mnon_full_backward_hooks\u001b[0m \u001b[0;34m=\u001b[0m \u001b[0;34m[\u001b[0m\u001b[0;34m]\u001b[0m\u001b[0;34m,\u001b[0m \u001b[0;34m[\u001b[0m\u001b[0;34m]\u001b[0m\u001b[0;34m\u001b[0m\u001b[0;34m\u001b[0m\u001b[0m\n",
      "\u001b[0;32m/home/m_eslami/.local/lib/python3.6/site-packages/transformers/models/t5/modeling_t5.py\u001b[0m in \u001b[0;36mforward\u001b[0;34m(self, input_ids, attention_mask, decoder_input_ids, decoder_attention_mask, head_mask, decoder_head_mask, cross_attn_head_mask, encoder_outputs, past_key_values, inputs_embeds, decoder_inputs_embeds, labels, use_cache, output_attentions, output_hidden_states, return_dict)\u001b[0m\n\u001b[1;32m   1615\u001b[0m             \u001b[0moutput_attentions\u001b[0m\u001b[0;34m=\u001b[0m\u001b[0moutput_attentions\u001b[0m\u001b[0;34m,\u001b[0m\u001b[0;34m\u001b[0m\u001b[0;34m\u001b[0m\u001b[0m\n\u001b[1;32m   1616\u001b[0m             \u001b[0moutput_hidden_states\u001b[0m\u001b[0;34m=\u001b[0m\u001b[0moutput_hidden_states\u001b[0m\u001b[0;34m,\u001b[0m\u001b[0;34m\u001b[0m\u001b[0;34m\u001b[0m\u001b[0m\n\u001b[0;32m-> 1617\u001b[0;31m             \u001b[0mreturn_dict\u001b[0m\u001b[0;34m=\u001b[0m\u001b[0mreturn_dict\u001b[0m\u001b[0;34m,\u001b[0m\u001b[0;34m\u001b[0m\u001b[0;34m\u001b[0m\u001b[0m\n\u001b[0m\u001b[1;32m   1618\u001b[0m         )\n\u001b[1;32m   1619\u001b[0m \u001b[0;34m\u001b[0m\u001b[0m\n",
      "\u001b[0;32m/home/m_eslami/.local/lib/python3.6/site-packages/torch/nn/modules/module.py\u001b[0m in \u001b[0;36m_call_impl\u001b[0;34m(self, *input, **kwargs)\u001b[0m\n\u001b[1;32m   1049\u001b[0m         if not (self._backward_hooks or self._forward_hooks or self._forward_pre_hooks or _global_backward_hooks\n\u001b[1;32m   1050\u001b[0m                 or _global_forward_hooks or _global_forward_pre_hooks):\n\u001b[0;32m-> 1051\u001b[0;31m             \u001b[0;32mreturn\u001b[0m \u001b[0mforward_call\u001b[0m\u001b[0;34m(\u001b[0m\u001b[0;34m*\u001b[0m\u001b[0minput\u001b[0m\u001b[0;34m,\u001b[0m \u001b[0;34m**\u001b[0m\u001b[0mkwargs\u001b[0m\u001b[0;34m)\u001b[0m\u001b[0;34m\u001b[0m\u001b[0;34m\u001b[0m\u001b[0m\n\u001b[0m\u001b[1;32m   1052\u001b[0m         \u001b[0;31m# Do not call functions when jit is used\u001b[0m\u001b[0;34m\u001b[0m\u001b[0;34m\u001b[0m\u001b[0;34m\u001b[0m\u001b[0m\n\u001b[1;32m   1053\u001b[0m         \u001b[0mfull_backward_hooks\u001b[0m\u001b[0;34m,\u001b[0m \u001b[0mnon_full_backward_hooks\u001b[0m \u001b[0;34m=\u001b[0m \u001b[0;34m[\u001b[0m\u001b[0;34m]\u001b[0m\u001b[0;34m,\u001b[0m \u001b[0;34m[\u001b[0m\u001b[0;34m]\u001b[0m\u001b[0;34m\u001b[0m\u001b[0;34m\u001b[0m\u001b[0m\n",
      "\u001b[0;32m/home/m_eslami/.local/lib/python3.6/site-packages/transformers/models/t5/modeling_t5.py\u001b[0m in \u001b[0;36mforward\u001b[0;34m(self, input_ids, attention_mask, encoder_hidden_states, encoder_attention_mask, inputs_embeds, head_mask, cross_attn_head_mask, past_key_values, use_cache, output_attentions, output_hidden_states, return_dict)\u001b[0m\n\u001b[1;32m   1005\u001b[0m                     \u001b[0mpast_key_value\u001b[0m\u001b[0;34m=\u001b[0m\u001b[0mpast_key_value\u001b[0m\u001b[0;34m,\u001b[0m\u001b[0;34m\u001b[0m\u001b[0;34m\u001b[0m\u001b[0m\n\u001b[1;32m   1006\u001b[0m                     \u001b[0muse_cache\u001b[0m\u001b[0;34m=\u001b[0m\u001b[0muse_cache\u001b[0m\u001b[0;34m,\u001b[0m\u001b[0;34m\u001b[0m\u001b[0;34m\u001b[0m\u001b[0m\n\u001b[0;32m-> 1007\u001b[0;31m                     \u001b[0moutput_attentions\u001b[0m\u001b[0;34m=\u001b[0m\u001b[0moutput_attentions\u001b[0m\u001b[0;34m,\u001b[0m\u001b[0;34m\u001b[0m\u001b[0;34m\u001b[0m\u001b[0m\n\u001b[0m\u001b[1;32m   1008\u001b[0m                 )\n\u001b[1;32m   1009\u001b[0m \u001b[0;34m\u001b[0m\u001b[0m\n",
      "\u001b[0;32m/home/m_eslami/.local/lib/python3.6/site-packages/torch/nn/modules/module.py\u001b[0m in \u001b[0;36m_call_impl\u001b[0;34m(self, *input, **kwargs)\u001b[0m\n\u001b[1;32m   1049\u001b[0m         if not (self._backward_hooks or self._forward_hooks or self._forward_pre_hooks or _global_backward_hooks\n\u001b[1;32m   1050\u001b[0m                 or _global_forward_hooks or _global_forward_pre_hooks):\n\u001b[0;32m-> 1051\u001b[0;31m             \u001b[0;32mreturn\u001b[0m \u001b[0mforward_call\u001b[0m\u001b[0;34m(\u001b[0m\u001b[0;34m*\u001b[0m\u001b[0minput\u001b[0m\u001b[0;34m,\u001b[0m \u001b[0;34m**\u001b[0m\u001b[0mkwargs\u001b[0m\u001b[0;34m)\u001b[0m\u001b[0;34m\u001b[0m\u001b[0;34m\u001b[0m\u001b[0m\n\u001b[0m\u001b[1;32m   1052\u001b[0m         \u001b[0;31m# Do not call functions when jit is used\u001b[0m\u001b[0;34m\u001b[0m\u001b[0;34m\u001b[0m\u001b[0;34m\u001b[0m\u001b[0m\n\u001b[1;32m   1053\u001b[0m         \u001b[0mfull_backward_hooks\u001b[0m\u001b[0;34m,\u001b[0m \u001b[0mnon_full_backward_hooks\u001b[0m \u001b[0;34m=\u001b[0m \u001b[0;34m[\u001b[0m\u001b[0;34m]\u001b[0m\u001b[0;34m,\u001b[0m \u001b[0;34m[\u001b[0m\u001b[0;34m]\u001b[0m\u001b[0;34m\u001b[0m\u001b[0;34m\u001b[0m\u001b[0m\n",
      "\u001b[0;32m/home/m_eslami/.local/lib/python3.6/site-packages/transformers/models/t5/modeling_t5.py\u001b[0m in \u001b[0;36mforward\u001b[0;34m(self, hidden_states, attention_mask, position_bias, encoder_hidden_states, encoder_attention_mask, encoder_decoder_position_bias, layer_head_mask, cross_attn_layer_head_mask, past_key_value, use_cache, output_attentions, return_dict)\u001b[0m\n\u001b[1;32m    670\u001b[0m                 \u001b[0mquery_length\u001b[0m\u001b[0;34m=\u001b[0m\u001b[0mquery_length\u001b[0m\u001b[0;34m,\u001b[0m\u001b[0;34m\u001b[0m\u001b[0;34m\u001b[0m\u001b[0m\n\u001b[1;32m    671\u001b[0m                 \u001b[0muse_cache\u001b[0m\u001b[0;34m=\u001b[0m\u001b[0muse_cache\u001b[0m\u001b[0;34m,\u001b[0m\u001b[0;34m\u001b[0m\u001b[0;34m\u001b[0m\u001b[0m\n\u001b[0;32m--> 672\u001b[0;31m                 \u001b[0moutput_attentions\u001b[0m\u001b[0;34m=\u001b[0m\u001b[0moutput_attentions\u001b[0m\u001b[0;34m,\u001b[0m\u001b[0;34m\u001b[0m\u001b[0;34m\u001b[0m\u001b[0m\n\u001b[0m\u001b[1;32m    673\u001b[0m             )\n\u001b[1;32m    674\u001b[0m             \u001b[0mhidden_states\u001b[0m \u001b[0;34m=\u001b[0m \u001b[0mcross_attention_outputs\u001b[0m\u001b[0;34m[\u001b[0m\u001b[0;36m0\u001b[0m\u001b[0;34m]\u001b[0m\u001b[0;34m\u001b[0m\u001b[0;34m\u001b[0m\u001b[0m\n",
      "\u001b[0;32m/home/m_eslami/.local/lib/python3.6/site-packages/torch/nn/modules/module.py\u001b[0m in \u001b[0;36m_call_impl\u001b[0;34m(self, *input, **kwargs)\u001b[0m\n\u001b[1;32m   1049\u001b[0m         if not (self._backward_hooks or self._forward_hooks or self._forward_pre_hooks or _global_backward_hooks\n\u001b[1;32m   1050\u001b[0m                 or _global_forward_hooks or _global_forward_pre_hooks):\n\u001b[0;32m-> 1051\u001b[0;31m             \u001b[0;32mreturn\u001b[0m \u001b[0mforward_call\u001b[0m\u001b[0;34m(\u001b[0m\u001b[0;34m*\u001b[0m\u001b[0minput\u001b[0m\u001b[0;34m,\u001b[0m \u001b[0;34m**\u001b[0m\u001b[0mkwargs\u001b[0m\u001b[0;34m)\u001b[0m\u001b[0;34m\u001b[0m\u001b[0;34m\u001b[0m\u001b[0m\n\u001b[0m\u001b[1;32m   1052\u001b[0m         \u001b[0;31m# Do not call functions when jit is used\u001b[0m\u001b[0;34m\u001b[0m\u001b[0;34m\u001b[0m\u001b[0;34m\u001b[0m\u001b[0m\n\u001b[1;32m   1053\u001b[0m         \u001b[0mfull_backward_hooks\u001b[0m\u001b[0;34m,\u001b[0m \u001b[0mnon_full_backward_hooks\u001b[0m \u001b[0;34m=\u001b[0m \u001b[0;34m[\u001b[0m\u001b[0;34m]\u001b[0m\u001b[0;34m,\u001b[0m \u001b[0;34m[\u001b[0m\u001b[0;34m]\u001b[0m\u001b[0;34m\u001b[0m\u001b[0;34m\u001b[0m\u001b[0m\n",
      "\u001b[0;32m/home/m_eslami/.local/lib/python3.6/site-packages/transformers/models/t5/modeling_t5.py\u001b[0m in \u001b[0;36mforward\u001b[0;34m(self, hidden_states, key_value_states, attention_mask, position_bias, layer_head_mask, past_key_value, use_cache, query_length, output_attentions)\u001b[0m\n\u001b[1;32m    575\u001b[0m         \u001b[0moutput_attentions\u001b[0m\u001b[0;34m=\u001b[0m\u001b[0;32mFalse\u001b[0m\u001b[0;34m,\u001b[0m\u001b[0;34m\u001b[0m\u001b[0;34m\u001b[0m\u001b[0m\n\u001b[1;32m    576\u001b[0m     ):\n\u001b[0;32m--> 577\u001b[0;31m         \u001b[0mnormed_hidden_states\u001b[0m \u001b[0;34m=\u001b[0m \u001b[0mself\u001b[0m\u001b[0;34m.\u001b[0m\u001b[0mlayer_norm\u001b[0m\u001b[0;34m(\u001b[0m\u001b[0mhidden_states\u001b[0m\u001b[0;34m)\u001b[0m\u001b[0;34m\u001b[0m\u001b[0;34m\u001b[0m\u001b[0m\n\u001b[0m\u001b[1;32m    578\u001b[0m         attention_output = self.EncDecAttention(\n\u001b[1;32m    579\u001b[0m             \u001b[0mnormed_hidden_states\u001b[0m\u001b[0;34m,\u001b[0m\u001b[0;34m\u001b[0m\u001b[0;34m\u001b[0m\u001b[0m\n",
      "\u001b[0;32m/home/m_eslami/.local/lib/python3.6/site-packages/torch/nn/modules/module.py\u001b[0m in \u001b[0;36m_call_impl\u001b[0;34m(self, *input, **kwargs)\u001b[0m\n\u001b[1;32m   1049\u001b[0m         if not (self._backward_hooks or self._forward_hooks or self._forward_pre_hooks or _global_backward_hooks\n\u001b[1;32m   1050\u001b[0m                 or _global_forward_hooks or _global_forward_pre_hooks):\n\u001b[0;32m-> 1051\u001b[0;31m             \u001b[0;32mreturn\u001b[0m \u001b[0mforward_call\u001b[0m\u001b[0;34m(\u001b[0m\u001b[0;34m*\u001b[0m\u001b[0minput\u001b[0m\u001b[0;34m,\u001b[0m \u001b[0;34m**\u001b[0m\u001b[0mkwargs\u001b[0m\u001b[0;34m)\u001b[0m\u001b[0;34m\u001b[0m\u001b[0;34m\u001b[0m\u001b[0m\n\u001b[0m\u001b[1;32m   1052\u001b[0m         \u001b[0;31m# Do not call functions when jit is used\u001b[0m\u001b[0;34m\u001b[0m\u001b[0;34m\u001b[0m\u001b[0;34m\u001b[0m\u001b[0m\n\u001b[1;32m   1053\u001b[0m         \u001b[0mfull_backward_hooks\u001b[0m\u001b[0;34m,\u001b[0m \u001b[0mnon_full_backward_hooks\u001b[0m \u001b[0;34m=\u001b[0m \u001b[0;34m[\u001b[0m\u001b[0;34m]\u001b[0m\u001b[0;34m,\u001b[0m \u001b[0;34m[\u001b[0m\u001b[0;34m]\u001b[0m\u001b[0;34m\u001b[0m\u001b[0;34m\u001b[0m\u001b[0m\n",
      "\u001b[0;32m/home/m_eslami/.local/lib/python3.6/site-packages/transformers/models/t5/modeling_t5.py\u001b[0m in \u001b[0;36mforward\u001b[0;34m(self, hidden_states)\u001b[0m\n\u001b[1;32m    239\u001b[0m     \u001b[0;32mdef\u001b[0m \u001b[0mforward\u001b[0m\u001b[0;34m(\u001b[0m\u001b[0mself\u001b[0m\u001b[0;34m,\u001b[0m \u001b[0mhidden_states\u001b[0m\u001b[0;34m)\u001b[0m\u001b[0;34m:\u001b[0m\u001b[0;34m\u001b[0m\u001b[0;34m\u001b[0m\u001b[0m\n\u001b[1;32m    240\u001b[0m         \u001b[0;31m# layer norm should always be calculated in float32\u001b[0m\u001b[0;34m\u001b[0m\u001b[0;34m\u001b[0m\u001b[0;34m\u001b[0m\u001b[0m\n\u001b[0;32m--> 241\u001b[0;31m         \u001b[0mvariance\u001b[0m \u001b[0;34m=\u001b[0m \u001b[0mhidden_states\u001b[0m\u001b[0;34m.\u001b[0m\u001b[0mto\u001b[0m\u001b[0;34m(\u001b[0m\u001b[0mtorch\u001b[0m\u001b[0;34m.\u001b[0m\u001b[0mfloat32\u001b[0m\u001b[0;34m)\u001b[0m\u001b[0;34m.\u001b[0m\u001b[0mpow\u001b[0m\u001b[0;34m(\u001b[0m\u001b[0;36m2\u001b[0m\u001b[0;34m)\u001b[0m\u001b[0;34m.\u001b[0m\u001b[0mmean\u001b[0m\u001b[0;34m(\u001b[0m\u001b[0;34m-\u001b[0m\u001b[0;36m1\u001b[0m\u001b[0;34m,\u001b[0m \u001b[0mkeepdim\u001b[0m\u001b[0;34m=\u001b[0m\u001b[0;32mTrue\u001b[0m\u001b[0;34m)\u001b[0m\u001b[0;34m\u001b[0m\u001b[0;34m\u001b[0m\u001b[0m\n\u001b[0m\u001b[1;32m    242\u001b[0m         \u001b[0mhidden_states\u001b[0m \u001b[0;34m=\u001b[0m \u001b[0mhidden_states\u001b[0m \u001b[0;34m*\u001b[0m \u001b[0mtorch\u001b[0m\u001b[0;34m.\u001b[0m\u001b[0mrsqrt\u001b[0m\u001b[0;34m(\u001b[0m\u001b[0mvariance\u001b[0m \u001b[0;34m+\u001b[0m \u001b[0mself\u001b[0m\u001b[0;34m.\u001b[0m\u001b[0mvariance_epsilon\u001b[0m\u001b[0;34m)\u001b[0m\u001b[0;34m\u001b[0m\u001b[0;34m\u001b[0m\u001b[0m\n\u001b[1;32m    243\u001b[0m \u001b[0;34m\u001b[0m\u001b[0m\n",
      "\u001b[0;31mKeyboardInterrupt\u001b[0m: "
     ]
    }
   ],
   "source": [
    "model3 = train_model('aty.csv','t5-small','t5_step10_3_9_2021','Atypical_Annot', 'obj2', 20)\n",
    "# model4 = train_model('aty.csv','t5_step10_3_9_2021.h5','t5_step10_3_9_2021','Atypical_Annot', 'obj1', 1)\n",
    "# model4 = train_model('aty.csv','t5_step10_3_9_2021.h5','t5_step10_3_9_2021','Atypical_Annot', 'obj2', 1)\n"
   ]
  },
  {
   "cell_type": "code",
   "execution_count": 43,
   "metadata": {},
   "outputs": [
    {
     "name": "stdout",
     "output_type": "stream",
     "text": [
      "input: \n",
      " I should watch what I eat because I order take out alot. \n",
      "Texture Replacement 2: The object which has a new texture is <b>bottle</b> and the objects that have created the texture are <b>forks- chocolate- food</b>\n",
      "\n",
      "pred: [' Object Inside Object: Objects which are inside are <unk> b>woman<unk>'] \n",
      "out: ['Texture Replacement 2: The object which has a new texture is <b>bottle</b> and the objects that have created the texture are <b>forks- chocolate- food</b>']\n",
      "________________________\n"
     ]
    }
   ],
   "source": [
    "i=100\n",
    "model.save_pretrained('t5_step10_3_9_2021'+\".h5\")\n",
    "\n",
    "sengen_supervised('t5_step10_3_9_2021.h5',train_df,'QA', 'Atypical_Annot',i,tokenizer)\n"
   ]
  },
  {
   "cell_type": "code",
   "execution_count": 43,
   "metadata": {},
   "outputs": [
    {
     "data": {
      "text/plain": [
       "''"
      ]
     },
     "execution_count": 43,
     "metadata": {},
     "output_type": "execute_result"
    }
   ],
   "source": [
    "re.sub(' +', ' ','')"
   ]
  },
  {
   "cell_type": "code",
   "execution_count": null,
   "metadata": {},
   "outputs": [],
   "source": [
    "train_df = pd.read_csv('unsupervised.csv', index_col=0)\n",
    "train_df\n",
    "for ind,row in train_df.iterrows():\n",
    "    if len(row['input'])<3 or len(row['output'])<3:\n",
    "        print(row['input'], row['output'])"
   ]
  },
  {
   "cell_type": "code",
   "execution_count": null,
   "metadata": {},
   "outputs": [],
   "source": []
  },
  {
   "cell_type": "markdown",
   "metadata": {
    "id": "UwVEDrdZ545G"
   },
   "source": [
    "## Plotting the loss over time"
   ]
  },
  {
   "cell_type": "code",
   "execution_count": null,
   "metadata": {
    "colab": {
     "background_save": true
    },
    "id": "7quhDpSxxTGL"
   },
   "outputs": [],
   "source": [
    "#1: 1 epoch\n",
    "import matplotlib.pyplot as plt\n",
    "   \n",
    "steps = [i*100 for i in range(len(loss_per_10_steps))]\n",
    "  \n",
    "plt.plot(steps, loss_per_10_steps)\n",
    "plt.title('Loss')\n",
    "plt.xlabel('Steps')\n",
    "plt.ylabel('Loss')\n",
    "plt.show()"
   ]
  },
  {
   "cell_type": "code",
   "execution_count": null,
   "metadata": {},
   "outputs": [],
   "source": [
    "#2: 10 epoch\n",
    "import matplotlib.pyplot as plt\n",
    "   \n",
    "steps = [i*100 for i in range(len(loss_per_10_steps))]\n",
    "  \n",
    "plt.plot(steps, loss_per_10_steps)\n",
    "plt.title('Loss')\n",
    "plt.xlabel('Steps')\n",
    "plt.ylabel('Loss')\n",
    "plt.show()"
   ]
  },
  {
   "cell_type": "code",
   "execution_count": null,
   "metadata": {},
   "outputs": [],
   "source": [
    "#3: 1 epoch with out <b> tag\n",
    "import matplotlib.pyplot as plt\n",
    "   \n",
    "steps = [i*100 for i in range(len(loss_per_10_steps))]\n",
    "  \n",
    "plt.plot(steps, loss_per_10_steps)\n",
    "plt.title('Loss')\n",
    "plt.xlabel('Steps')\n",
    "plt.ylabel('Loss')\n",
    "plt.show()"
   ]
  },
  {
   "cell_type": "code",
   "execution_count": null,
   "metadata": {},
   "outputs": [],
   "source": [
    "#4: 1 epoch with out <b> tag and tarkib each Q and A (14730 rows )\n",
    "import matplotlib.pyplot as plt\n",
    "   \n",
    "steps = [i*100 for i in range(len(loss_per_10_steps))]\n",
    "  \n",
    "plt.plot(steps, loss_per_10_steps)\n",
    "plt.title('Loss')\n",
    "plt.xlabel('Steps')\n",
    "plt.ylabel('Loss')\n",
    "plt.show()"
   ]
  },
  {
   "cell_type": "code",
   "execution_count": 25,
   "metadata": {},
   "outputs": [],
   "source": [
    "#5: 10 epoch with ad_atypical_aug.csv (just tarkib & co-ref)\n",
    "import matplotlib.pyplot as plt\n",
    "   \n",
    "steps = [i*100 for i in range(len(loss_per_10_steps))]\n",
    "  \n",
    "plt.plot(steps, loss_per_10_steps)\n",
    "plt.title('Loss')\n",
    "plt.xlabel('Steps')\n",
    "plt.ylabel('Loss')\n",
    "plt.show()"
   ]
  },
  {
   "cell_type": "code",
   "execution_count": 22,
   "metadata": {},
   "outputs": [
    {
     "data": {
      "image/png": "[encoded data removed]",
      "text/plain": [
       "<Figure size 432x288 with 1 Axes>"
      ]
     },
     "metadata": {
      "needs_background": "light"
     },
     "output_type": "display_data"
    }
   ],
   "source": [
    "#8: 4 epoch - unsupervised - 11k rows - 25-8-2021\n",
    "import matplotlib.pyplot as plt\n",
    "   \n",
    "steps = [i*100 for i in range(len(loss_per_10_steps))]\n",
    "  \n",
    "plt.plot(steps, loss_per_10_steps)\n",
    "plt.title('Loss')\n",
    "plt.xlabel('Steps')\n",
    "plt.ylabel('Loss')\n",
    "plt.show()"
   ]
  },
  {
   "cell_type": "code",
   "execution_count": 13,
   "metadata": {},
   "outputs": [
    {
     "data": {
      "image/png": "[encoded data removed]",
      "text/plain": [
       "<Figure size 432x288 with 1 Axes>"
      ]
     },
     "metadata": {
      "needs_background": "light"
     },
     "output_type": "display_data"
    }
   ],
   "source": [
    "#8: 4 epoch - supervised - 14k rows - 25-8-2021\n",
    "import matplotlib.pyplot as plt\n",
    "   \n",
    "steps = [i*100 for i in range(len(loss_per_10_steps))]\n",
    "  \n",
    "plt.plot(steps, loss_per_10_steps)\n",
    "plt.title('Loss')\n",
    "plt.xlabel('Steps')\n",
    "plt.ylabel('Loss')\n",
    "plt.show()"
   ]
  },
  {
   "cell_type": "code",
   "execution_count": 6,
   "metadata": {},
   "outputs": [
    {
     "data": {
      "image/png": "[encoded data removed]",
      "text/plain": [
       "<Figure size 432x288 with 1 Axes>"
      ]
     },
     "metadata": {
      "needs_background": "light"
     },
     "output_type": "display_data"
    }
   ],
   "source": [
    "#9: 4 epoch - unsupervised - 3k rows - 26-8-2021 - [7709:](just Annot)\n",
    "# model.save_pretrained(\"t5_step9_26_8_2021.h5\")\n",
    "import matplotlib.pyplot as plt\n",
    "   \n",
    "steps = [i*100 for i in range(len(loss_per_10_steps))]\n",
    "  \n",
    "plt.plot(steps, loss_per_10_steps)\n",
    "plt.title('Loss')\n",
    "plt.xlabel('Steps')\n",
    "plt.ylabel('Loss')\n",
    "plt.show()"
   ]
  },
  {
   "cell_type": "code",
   "execution_count": 42,
   "metadata": {},
   "outputs": [
    {
     "data": {
      "image/png": "[encoded data removed]",
      "text/plain": [
       "<Figure size 432x288 with 1 Axes>"
      ]
     },
     "metadata": {
      "needs_background": "light"
     },
     "output_type": "display_data"
    }
   ],
   "source": [
    "#9: 1 epoch - unsupervised - \n",
    "# model.save_pretrained(\"t5_step9_26_8_2021.h5\")\n",
    "import matplotlib.pyplot as plt\n",
    "   \n",
    "steps = [i*100 for i in range(len(loss_per_10_steps))]\n",
    "  \n",
    "plt.plot(steps, loss_per_10_steps)\n",
    "plt.title('Loss')\n",
    "plt.xlabel('Steps')\n",
    "plt.ylabel('Loss')\n",
    "plt.show()"
   ]
  },
  {
   "cell_type": "markdown",
   "metadata": {
    "id": "Nv3VHD585lc9"
   },
   "source": [
    "## Testing the model"
   ]
  },
  {
   "cell_type": "code",
   "execution_count": null,
   "metadata": {
    "colab": {
     "background_save": true
    },
    "id": "JD6M4tb8l2Vs"
   },
   "outputs": [],
   "source": [
    "model.eval()\n",
    "# input_ids = tokenizer.encode(\"WebNLG: sidharth | hometown | Delhi && sidharth | play |  football </s>\", return_tensors=\"pt\")  # Batch size 1\n",
    "print('QA: '+new_df.iloc[-1]['QA']+'</s>', '\\n')\n",
    "input_ids = tokenizer.encode('QA: '+new_df.iloc[-1]['QA']+'</s>', return_tensors=\"pt\")  # Batch size 1\n",
    "input_ids=input_ids.to(dev)\n",
    "outputs = model.generate(input_ids)\n",
    "print(tokenizer.decode(outputs[0]),'\\n\\n', new_df.iloc[-1]['Atypical_Annot']+'</s>')"
   ]
  },
  {
   "cell_type": "code",
   "execution_count": null,
   "metadata": {},
   "outputs": [],
   "source": [
    "model.eval()\n",
    "# input_ids = tokenizer.encode(\"WebNLG: sidharth | hometown | Delhi && sidharth | play |  football </s>\", return_tensors=\"pt\")  # Batch size 1\n",
    "print('QA: '+train_df.iloc[-1]['QA']+'</s>', '\\n')\n",
    "input_ids = tokenizer.encode('QA: '+ train_df.iloc[-1]['QA']+'</s>', return_tensors=\"pt\")  # Batch size 1\n",
    "input_ids=input_ids.to(dev)\n",
    "outputs = model.generate(input_ids)\n",
    "print(tokenizer.decode(outputs[0]),'\\n\\n', train_df.iloc[-1]['Atypical_Annot']+'</s>')"
   ]
  },
  {
   "cell_type": "code",
   "execution_count": null,
   "metadata": {},
   "outputs": [],
   "source": [
    "tokenizer = T5Tokenizer.from_pretrained('t5-small', local_files_only=True)\n",
    "\n",
    "model = T5ForConditionalGeneration.from_pretrained('t5_step6_18_8_2021.h5')\n",
    "model\n",
    "model.eval()\n",
    "# input_ids = tokenizer.encode(\"WebNLG: sidharth | hometown | Delhi && sidharth | play |  football </s>\", return_tensors=\"pt\")  # Batch size 1\n",
    "print('QA: '+train_df.iloc[-1]['QA']+'</s>', '\\n')\n",
    "input_ids = tokenizer.encode('QA: '+ train_df.iloc[-1]['QA']+'</s>', return_tensors=\"pt\")  # Batch size 1\n",
    "input_ids=input_ids.to(dev)\n",
    "outputs = model.generate(input_ids)\n",
    "print(tokenizer.decode(outputs[0]),'\\n\\n', train_df.iloc[-1]['Atypical_Annot']+'</s>')\n",
    "\n",
    "model = T5ForConditionalGeneration.from_pretrained('t5_step7_18_8_2021.h5')\n",
    "model.eval()\n",
    "# input_ids = tokenizer.encode(\"WebNLG: sidharth | hometown | Delhi && sidharth | play |  football </s>\", return_tensors=\"pt\")  # Batch size 1\n",
    "input_ids = tokenizer.encode('QA: '+ train_df.iloc[-1]['QA']+'</s>', return_tensors=\"pt\")  # Batch size 1\n",
    "input_ids=input_ids.to(dev)\n",
    "outputs = model.generate(input_ids)\n",
    "print(tokenizer.decode(outputs[0]))\n"
   ]
  },
  {
   "cell_type": "code",
   "execution_count": null,
   "metadata": {},
   "outputs": [],
   "source": [
    "# step 8\n",
    "t =-1\n",
    "# model.save_pretrained(\"t5_step8_25_8_2021.h5\")\n",
    "# tokenizer = T5Tokenizer.from_pretrained('t5-small', local_files_only=True)\n",
    "el = T5ForConditionalGeneration.from_pretrained('t5_step8_25_8_2021.h5', local_files_only=True)\n",
    "model.eval()\n",
    "input_ids = tokenizer.encode(train_df.iloc[0]['input'], return_tensors=\"pt\")  # Batch size 1\n",
    "input_ids=input_ids.to(dev)\n",
    "outputs = model.generate(input_ids)\n",
    "print(train_df.iloc[0]['input'])\n",
    "print(tokenizer.decode(outputs[0]))\n",
    "print(train_df.iloc[0]['output'])\n",
    "\n"
   ]
  },
  {
   "cell_type": "code",
   "execution_count": null,
   "metadata": {},
   "outputs": [],
   "source": [
    "# step 8\n",
    "t =-1\n",
    "model.eval()\n",
    "# input_ids = tokenizer.encode(\"WebNLG: sidharth | hometown | Delhi && sidharth | play |  football </s>\", return_tensors=\"pt\")  # Batch size 1\n",
    "print('QA: '+train_df.iloc[t]['QA']+'</s>', '\\n')\n",
    "input_ids = tokenizer.encode('QA: '+ train_df.iloc[t]['QA']+'</s>', return_tensors=\"pt\")  # Batch size 1\n",
    "input_ids=input_ids.to(dev)\n",
    "outputs = model.generate(input_ids)\n",
    "print(tokenizer.decode(outputs[0]),'\\n\\n', train_df.iloc[t]['Atypical_Annot']+'</s>')\n"
   ]
  },
  {
   "cell_type": "code",
   "execution_count": null,
   "metadata": {},
   "outputs": [],
   "source": [
    "# The main model t5-small\n",
    "t =-1\n",
    "model.eval()\n",
    "# input_ids = tokenizer.encode(\"WebNLG: sidharth | hometown | Delhi && sidharth | play |  football </s>\", return_tensors=\"pt\")  # Batch size 1\n",
    "print('QA: '+train_df.iloc[t]['input'], '\\n')\n",
    "input_ids = tokenizer.encode(train_df.iloc[t]['input'], return_tensors=\"pt\")  # Batch size 1\n",
    "input_ids=input_ids.to(dev)\n",
    "outputs = model.generate(input_ids)\n",
    "print(tokenizer.decode(outputs[0]),'\\n\\n', train_df.iloc[t]['output']+'</s>')\n"
   ]
  },
  {
   "cell_type": "code",
   "execution_count": null,
   "metadata": {},
   "outputs": [],
   "source": [
    "# just 1 epoch for unsupervised\n",
    "## much bettr than 4 epoch\n",
    "t =-1\n",
    "model.eval()\n",
    "# input_ids = tokenizer.encode(\"WebNLG: sidharth | hometown | Delhi && sidharth | play |  football </s>\", return_tensors=\"pt\")  # Batch size 1\n",
    "print(train_df.iloc[t]['input'], '\\n')\n",
    "input_ids = tokenizer.encode(train_df.iloc[t]['input'], return_tensors=\"pt\")  # Batch size 1\n",
    "input_ids=input_ids.to(dev)\n",
    "outputs = model.generate(input_ids)\n",
    "print(tokenizer.decode(outputs[0]),'\\n\\n', train_df.iloc[t]['output']+'</s>')\n"
   ]
  },
  {
   "cell_type": "code",
   "execution_count": 5,
   "metadata": {
    "scrolled": true
   },
   "outputs": [
    {
     "name": "stdout",
     "output_type": "stream",
     "text": [
      "\n",
      "t5_step8_25_8_2021 4 epoch - unsupervised\n",
      "input: \n",
      " <extra_id_0>: The object which is placed in the context of another object is <extra_id_1> and the object which is replaced by another object (expected object) <extra_id_2>\n",
      "\n",
      "pred: [' ', ' Object Replacement', ' ice', ' ice', ' '] \n",
      "out: ['', ' Object Replacement ', ' oreo ', \" person's head \", '']\n",
      "________________________\n",
      "\n",
      "t5_step9_26_8_2021 4 epoch - unsuperviesd - [7709:](just Annot)\n",
      "input: \n",
      " <extra_id_0>: The object which is placed in the context of another object is <extra_id_1> and the object which is replaced by another object (expected object) <extra_id_2>\n",
      "\n",
      "pred: [' Object Inside Object: Objects which are inside are object and the objects that are'] \n",
      "out: ['', ' Object Replacement ', ' oreo ', \" person's head \", '']\n",
      "________________________\n",
      "\n",
      "t5_step9_27_8_2021 1 epoch - unsuperviesd\n",
      "input: \n",
      " <extra_id_0>: The object which is placed in the context of another object is <extra_id_1> and the object which is replaced by another object (expected object) <extra_id_2>\n",
      "\n",
      "pred: [' ', ' Object Replacement', ' ice', ' person', ' '] \n",
      "out: ['', ' Object Replacement ', ' oreo ', \" person's head \", '']\n",
      "________________________\n",
      "\n",
      "t5_step9_b3_27_8_2021_1 50 epoch - unsuperviesd- input>output\n",
      "input: \n",
      " <extra_id_0>: The object which is placed in the context of another object is <extra_id_1> and the object which is replaced by another object (expected object) <extra_id_2>\n",
      "\n",
      "pred: [' ', ' Object Replacement', ' ice cream', ' ice cream', ' '] \n",
      "out: ['', ' Object Replacement ', ' oreo ', \" person's head \", '']\n",
      "________________________\n",
      "\n",
      "t5_step9_15_9_2021 50 epoch - unsuperviesd- input>output--t5-base\n",
      "input: \n",
      " <extra_id_0>: The object which is placed in the context of another object is <extra_id_1> and the object which is replaced by another object (expected object) <extra_id_2>\n",
      "\n",
      "pred: [' ', ' Object Replacement', ' ice cream', ' ice cream', ' '] \n",
      "out: ['', ' Object Replacement ', ' oreo ', \" person's head \", '']\n",
      "________________________\n",
      "==================================\n",
      "\n",
      "t5_step8_25_8_2021 4 epoch - unsupervised\n",
      "input: \n",
      " I should <extra_id_0> <extra_id_1> <extra_id_2> because <extra_id_3> <extra_id_4> is <extra_id_5>\n",
      "\n",
      "pred: [' ', ' drink', ' Absolut', ' vodka', ' Absolut', ' vodka', ' refreshing', ' '] \n",
      "out: ['', ' eat ', ' quality ', ' street ', ' quality ', ' street ', ' festive ', '']\n",
      "________________________\n",
      "\n",
      "t5_step9_26_8_2021 4 epoch - unsuperviesd - [7709:](just Annot)\n",
      "input: \n",
      " I should <extra_id_0> <extra_id_1> <extra_id_2> because <extra_id_3> <extra_id_4> is <extra_id_5>\n",
      "\n",
      "pred: [' Object Inside Object: Objects which are inside are iceberg and the objects'] \n",
      "out: ['', ' eat ', ' quality ', ' street ', ' quality ', ' street ', ' festive ', '']\n",
      "________________________\n",
      "\n",
      "t5_step9_27_8_2021 1 epoch - unsuperviesd\n",
      "input: \n",
      " I should <extra_id_0> <extra_id_1> <extra_id_2> because <extra_id_3> <extra_id_4> is <extra_id_5>\n",
      "\n",
      "pred: [' ', ' drink', ' ice', ' cream', ' ice', ' cream', ' sand', ' '] \n",
      "out: ['', ' eat ', ' quality ', ' street ', ' quality ', ' street ', ' festive ', '']\n",
      "________________________\n",
      "\n",
      "t5_step9_b3_27_8_2021_1 50 epoch - unsuperviesd- input>output\n",
      "input: \n",
      " I should <extra_id_0> <extra_id_1> <extra_id_2> because <extra_id_3> <extra_id_4> is <extra_id_5>\n",
      "\n",
      "pred: [' ', ' drink', ' ice cream', ' bottle', ' ice cream', ' bottle', ' sexy'] \n",
      "out: ['', ' eat ', ' quality ', ' street ', ' quality ', ' street ', ' festive ', '']\n",
      "________________________\n",
      "\n",
      "t5_step9_15_9_2021 50 epoch - unsuperviesd- input>output--t5-base\n",
      "input: \n",
      " I should <extra_id_0> <extra_id_1> <extra_id_2> because <extra_id_3> <extra_id_4> is <extra_id_5>\n",
      "\n",
      "pred: [' ', ' drink', ' ice', ' cream', ' ice', ' cream', ' refreshing', ' '] \n",
      "out: ['', ' eat ', ' quality ', ' street ', ' quality ', ' street ', ' festive ', '']\n",
      "________________________\n",
      "==================================\n",
      "\n",
      "t5_step8_25_8_2021 4 epoch - unsupervised\n",
      "input: \n",
      " I should not <extra_id_0> because it could <extra_id_1> me \n",
      "\n",
      "pred: [' ', ' smoke', ' kill', ' '] \n",
      "out: ['', ' smoke ', ' kill ', '']\n",
      "________________________\n",
      "\n",
      "t5_step9_26_8_2021 4 epoch - unsuperviesd - [7709:](just Annot)\n",
      "input: \n",
      " I should not <extra_id_0> because it could <extra_id_1> me \n",
      "\n",
      "pred: [' Object Inside Object: Objects which are inside are man and the objects that are'] \n",
      "out: ['', ' smoke ', ' kill ', '']\n",
      "________________________\n",
      "\n",
      "t5_step9_27_8_2021 1 epoch - unsuperviesd\n",
      "input: \n",
      " I should not <extra_id_0> because it could <extra_id_1> me \n",
      "\n",
      "pred: [' ', ' drink', ' kill', ' '] \n",
      "out: ['', ' smoke ', ' kill ', '']\n",
      "________________________\n",
      "\n",
      "t5_step9_b3_27_8_2021_1 50 epoch - unsuperviesd- input>output\n",
      "input: \n",
      " I should not <extra_id_0> because it could <extra_id_1> me \n",
      "\n",
      "pred: [' ', ' drink', ' kill', ' '] \n",
      "out: ['', ' smoke ', ' kill ', '']\n",
      "________________________\n",
      "\n",
      "t5_step9_15_9_2021 50 epoch - unsuperviesd- input>output--t5-base\n",
      "input: \n",
      " I should not <extra_id_0> because it could <extra_id_1> me \n",
      "\n",
      "pred: [' ', ' smoke', ' kill', ' '] \n",
      "out: ['', ' smoke ', ' kill ', '']\n",
      "________________________\n",
      "==================================\n",
      "\n",
      "t5_step8_25_8_2021 4 epoch - unsupervised\n",
      "input: \n",
      " I should <extra_id_0> <extra_id_1> <extra_id_2> because <extra_id_3> <extra_id_4> will help me <extra_id_5> a <extra_id_6>\n",
      "\n",
      "pred: [' ', ' drink', ' Absolut', ' Vodka', ' Absolut', ' Vodka', ' make', ' movie', ''] \n",
      "out: ['', ' buy ', ' Adidas ', ' shoes ', ' Adidas ', ' shoes ', ' score ', ' goal ', '']\n",
      "________________________\n",
      "\n",
      "t5_step9_26_8_2021 4 epoch - unsuperviesd - [7709:](just Annot)\n",
      "input: \n",
      " I should <extra_id_0> <extra_id_1> <extra_id_2> because <extra_id_3> <extra_id_4> will help me <extra_id_5> a <extra_id_6>\n",
      "\n",
      "pred: [' Object Inside Object: Objects which are inside are man and the objects that are'] \n",
      "out: ['', ' buy ', ' Adidas ', ' shoes ', ' Adidas ', ' shoes ', ' score ', ' goal ', '']\n",
      "________________________\n",
      "\n",
      "t5_step9_27_8_2021 1 epoch - unsuperviesd\n",
      "input: \n",
      " I should <extra_id_0> <extra_id_1> <extra_id_2> because <extra_id_3> <extra_id_4> will help me <extra_id_5> a <extra_id_6>\n",
      "\n",
      "pred: [' ', ' buy', ' ice', ' cream', ' ice', ' cream', ' make', ' sand', ''] \n",
      "out: ['', ' buy ', ' Adidas ', ' shoes ', ' Adidas ', ' shoes ', ' score ', ' goal ', '']\n",
      "________________________\n",
      "\n",
      "t5_step9_b3_27_8_2021_1 50 epoch - unsuperviesd- input>output\n",
      "input: \n",
      " I should <extra_id_0> <extra_id_1> <extra_id_2> because <extra_id_3> <extra_id_4> will help me <extra_id_5> a <extra_id_6>\n",
      "\n",
      "pred: [' ', ' buy', ' a swatch', ' mug', ' swatch', ' mug', ''] \n",
      "out: ['', ' buy ', ' Adidas ', ' shoes ', ' Adidas ', ' shoes ', ' score ', ' goal ', '']\n",
      "________________________\n",
      "\n",
      "t5_step9_15_9_2021 50 epoch - unsuperviesd- input>output--t5-base\n",
      "input: \n",
      " I should <extra_id_0> <extra_id_1> <extra_id_2> because <extra_id_3> <extra_id_4> will help me <extra_id_5> a <extra_id_6>\n",
      "\n",
      "pred: [' ', ' buy', ' sprite', ' toothpaste', ' sprite', ' toothpaste', ' make', ''] \n",
      "out: ['', ' buy ', ' Adidas ', ' shoes ', ' Adidas ', ' shoes ', ' score ', ' goal ', '']\n",
      "________________________\n",
      "==================================\n"
     ]
    }
   ],
   "source": [
    "# unsupervised\n",
    "def sengen_unsupervised(model_path,train_df,t, tokenizer):\n",
    "    model = T5ForConditionalGeneration.from_pretrained(model_path)\n",
    "    model.eval()\n",
    "    input_ids = tokenizer.encode(train_df.iloc[t]['input'], return_tensors=\"pt\")  # Batch size 1\n",
    "    input_ids=input_ids.to(dev)\n",
    "    model = model.to(dev)\n",
    "    outputs = model.generate(input_ids)\n",
    "    \n",
    "    print('input: \\n', train_df.iloc[t]['input'])\n",
    "    \n",
    "    pred = tokenizer.decode(outputs[0])\n",
    "    pred = re.sub('<pad>', '',pred)\n",
    "#     pred = re.sub('<b>', '',pred)\n",
    "#     pred = re.sub('</b>', '',pred)\n",
    "    pred = re.sub('</s>', '',pred)\n",
    "    pred = re.sub(' +', ' ',pred)\n",
    "    pred = re.compile(r'<extra_id_\\d*>').split(pred)\n",
    "    \n",
    "    out = train_df.iloc[t]['output']\n",
    "    out = re.sub(' +', ' ',out)\n",
    "    out = re.compile(r'<extra_id_\\d*>').split(out)\n",
    "    \n",
    "    print('\\npred:',pred,'\\nout:',out)\n",
    "    print(\"________________________\")\n",
    "    \n",
    "\n",
    "#     return pd.DataFrame([pred,out], columns=['pred', 'out'])\n",
    "# tokenizer = T5Tokenizer.from_pretrained('t5-small', local_files_only=True)\n",
    "train_df=pd.read_csv('unsupervised.csv', index_col=0)\n",
    "\n",
    "for i in [-1,10,100,1000]:\n",
    "    print('\\nt5_step8_25_8_2021', '4 epoch - unsupervised')\n",
    "    sengen_unsupervised('t5_step8_25_8_2021.h5',train_df,i,tokenizer)\n",
    "    \n",
    "    \n",
    "    print('\\nt5_step9_26_8_2021', '4 epoch - unsuperviesd - [7709:](just Annot)')\n",
    "    sengen_unsupervised('t5_step9_26_8_2021.h5',train_df,i,tokenizer)\n",
    "\n",
    "    print('\\nt5_step9_27_8_2021', '1 epoch - unsuperviesd')\n",
    "    sengen_unsupervised('t5_step9_27_8_2021.h5',train_df,i,tokenizer)\n",
    "    \n",
    "    print('\\nt5_step9_b3_27_8_2021_1', '50 epoch - unsuperviesd- input>output')\n",
    "    sengen_unsupervised('t5_step9_b3_27_8_2021_1.h5',train_df,i,tokenizer)\n",
    "    \n",
    "    print('\\nt5_step9_15_9_2021', '50 epoch - unsuperviesd- input>output--t5-base')\n",
    "    sengen_unsupervised('t5_step9_15_9_2021.h5',train_df,i,tokenizer)\n",
    "    \n",
    "    \n",
    "    \n",
    "    print(\"==================================\")\n",
    "# sengen('t5_step8_25_8_2021.h5',train_df,i,tokenizer)\n"
   ]
  },
  {
   "cell_type": "code",
   "execution_count": 6,
   "metadata": {
    "scrolled": true
   },
   "outputs": [
    {
     "name": "stdout",
     "output_type": "stream",
     "text": [
      "\n",
      "t5_step5_16_8_2021 10 epoch - \n",
      "input: \n",
      " I should buy oreo cookies because when you eat oreo cookies your world gets filled with wonder.\n",
      "Object Replacement: The object which is placed in the context of another object is oreo and the object which is replaced by another object (expected object) person's head\n",
      "\n",
      "pred: [' Object Replacement: The object which is placed in the context of another object is <unk> b'] \n",
      "out: [\"Object Replacement: The object which is placed in the context of another object is oreo and the object which is replaced by another object (expected object) person's head\"]\n",
      "________________________\n",
      "\n",
      "t5_step6_18_8_2021 10 epoch - \n",
      "input: \n",
      " I should buy oreo cookies because when you eat oreo cookies your world gets filled with wonder.\n",
      "Object Replacement: The object which is placed in the context of another object is oreo and the object which is replaced by another object (expected object) person's head\n",
      "\n",
      "pred: [' <unk> b>\\'oreo\\', \"person\\'s head\"<unk> /b'] \n",
      "out: [\"Object Replacement: The object which is placed in the context of another object is oreo and the object which is replaced by another object (expected object) person's head\"]\n",
      "________________________\n",
      "\n",
      "t5_step7_18_8_2021 10 epoch - \n",
      "input: \n",
      " I should buy oreo cookies because when you eat oreo cookies your world gets filled with wonder.\n",
      "Object Replacement: The object which is placed in the context of another object is oreo and the object which is replaced by another object (expected object) person's head\n",
      "\n",
      "pred: [' Object Inside Object: Objects which are inside are <unk> b>person<unk>'] \n",
      "out: [\"Object Replacement: The object which is placed in the context of another object is oreo and the object which is replaced by another object (expected object) person's head\"]\n",
      "________________________\n",
      "\n",
      "t5_step8-2_25_8_2021 10 epoch - \n",
      "input: \n",
      " I should buy oreo cookies because when you eat oreo cookies your world gets filled with wonder.\n",
      "Object Replacement: The object which is placed in the context of another object is oreo and the object which is replaced by another object (expected object) person's head\n",
      "\n",
      "pred: [' Object Inside Object: Objects which are inside are <unk> b>cookie'] \n",
      "out: [\"Object Replacement: The object which is placed in the context of another object is oreo and the object which is replaced by another object (expected object) person's head\"]\n",
      "________________________\n",
      "\n",
      "t5_step10_3_9_2021 1 epoch - \n",
      "input: \n",
      " I should buy oreo cookies because when you eat oreo cookies your world gets filled with wonder.\n",
      "Object Replacement: The object which is placed in the context of another object is oreo and the object which is replaced by another object (expected object) person's head\n",
      "\n",
      "pred: [' Object Inside Object: Objects which are inside are <unk> b>cookie'] \n",
      "out: [\"Object Replacement: The object which is placed in the context of another object is oreo and the object which is replaced by another object (expected object) person's head\"]\n",
      "________________________\n",
      "\n",
      "t5_step9_b3_27_8_2021 20 epoch on input>output unserpvised -- 20 epochs on QA>Atypicla \n",
      "input: \n",
      " I should buy oreo cookies because when you eat oreo cookies your world gets filled with wonder.\n",
      "Object Replacement: The object which is placed in the context of another object is oreo and the object which is replaced by another object (expected object) person's head\n",
      "\n",
      "pred: [' Object Inside Object: Objects which are inside are cookie and the objects that are'] \n",
      "out: [\"Object Replacement: The object which is placed in the context of another object is oreo and the object which is replaced by another object (expected object) person's head\"]\n",
      "________________________\n",
      "\n",
      "t5_step9_b3_27_8_2021_2 50 epoch on input>output unserpvised -then- 50 epochs on QA>Atypicla \n",
      "input: \n",
      " I should buy oreo cookies because when you eat oreo cookies your world gets filled with wonder.\n",
      "Object Replacement: The object which is placed in the context of another object is oreo and the object which is replaced by another object (expected object) person's head\n",
      "\n",
      "pred: [' Object Inside Object: Objects which are inside are cookie and the objects that are'] \n",
      "out: [\"Object Replacement: The object which is placed in the context of another object is oreo and the object which is replaced by another object (expected object) person's head\"]\n",
      "________________________\n",
      "\n",
      "t5_step9_15_9_20212 50 epoch on input>output unserpvised -then- 50 epochs on QA>Atypicla , t5--base\n",
      "input: \n",
      " I should buy oreo cookies because when you eat oreo cookies your world gets filled with wonder.\n",
      "Object Replacement: The object which is placed in the context of another object is oreo and the object which is replaced by another object (expected object) person's head\n",
      "\n",
      "pred: [' Object Inside Object: Objects which are inside are cookie and the objects that are'] \n",
      "out: [\"Object Replacement: The object which is placed in the context of another object is oreo and the object which is replaced by another object (expected object) person's head\"]\n",
      "________________________\n",
      "==================================\n",
      "\n",
      "t5_step5_16_8_2021 10 epoch - \n",
      "input: \n",
      " I should use Addiosn Lee because they will get me to work safely and calmly\n",
      "Object Inside Object: Objects which are inside are people and the objects that are outside are bubble\n",
      "\n",
      "pred: [' Object Inside Object: Objects which are inside are <unk> b>people<unk>'] \n",
      "out: ['Object Inside Object: Objects which are inside are people and the objects that are outside are bubble']\n",
      "________________________\n",
      "\n",
      "t5_step6_18_8_2021 10 epoch - \n",
      "input: \n",
      " I should use Addiosn Lee because they will get me to work safely and calmly\n",
      "Object Inside Object: Objects which are inside are people and the objects that are outside are bubble\n",
      "\n",
      "pred: [\" <unk> b>'people', 'bubbles'<unk> /b>\"] \n",
      "out: ['Object Inside Object: Objects which are inside are people and the objects that are outside are bubble']\n",
      "________________________\n",
      "\n",
      "t5_step7_18_8_2021 10 epoch - \n",
      "input: \n",
      " I should use Addiosn Lee because they will get me to work safely and calmly\n",
      "Object Inside Object: Objects which are inside are people and the objects that are outside are bubble\n",
      "\n",
      "pred: [' Object Inside Object: Objects which are inside are <unk> b>man and'] \n",
      "out: ['Object Inside Object: Objects which are inside are people and the objects that are outside are bubble']\n",
      "________________________\n",
      "\n",
      "t5_step8-2_25_8_2021 10 epoch - \n",
      "input: \n",
      " I should use Addiosn Lee because they will get me to work safely and calmly\n",
      "Object Inside Object: Objects which are inside are people and the objects that are outside are bubble\n",
      "\n",
      "pred: [' Object Replacement: The object which is placed in the context of another object is <unk> b'] \n",
      "out: ['Object Inside Object: Objects which are inside are people and the objects that are outside are bubble']\n",
      "________________________\n",
      "\n",
      "t5_step10_3_9_2021 1 epoch - \n",
      "input: \n",
      " I should use Addiosn Lee because they will get me to work safely and calmly\n",
      "Object Inside Object: Objects which are inside are people and the objects that are outside are bubble\n",
      "\n",
      "pred: [' Object Inside Object: Objects which are inside are <unk> b>man<unk>'] \n",
      "out: ['Object Inside Object: Objects which are inside are people and the objects that are outside are bubble']\n",
      "________________________\n",
      "\n",
      "t5_step9_b3_27_8_2021 20 epoch on input>output unserpvised -- 20 epochs on QA>Atypicla \n",
      "input: \n",
      " I should use Addiosn Lee because they will get me to work safely and calmly\n",
      "Object Inside Object: Objects which are inside are people and the objects that are outside are bubble\n",
      "\n",
      "pred: [' Object Replacement: The object which is placed in the context of another object is ice and'] \n",
      "out: ['Object Inside Object: Objects which are inside are people and the objects that are outside are bubble']\n",
      "________________________\n",
      "\n",
      "t5_step9_b3_27_8_2021_2 50 epoch on input>output unserpvised -then- 50 epochs on QA>Atypicla \n",
      "input: \n",
      " I should use Addiosn Lee because they will get me to work safely and calmly\n",
      "Object Inside Object: Objects which are inside are people and the objects that are outside are bubble\n",
      "\n",
      "pred: [' Object Replacement: The object which is placed in the context of another object is ice and'] \n",
      "out: ['Object Inside Object: Objects which are inside are people and the objects that are outside are bubble']\n",
      "________________________\n",
      "\n",
      "t5_step9_15_9_20212 50 epoch on input>output unserpvised -then- 50 epochs on QA>Atypicla , t5--base\n"
     ]
    },
    {
     "name": "stdout",
     "output_type": "stream",
     "text": [
      "input: \n",
      " I should use Addiosn Lee because they will get me to work safely and calmly\n",
      "Object Inside Object: Objects which are inside are people and the objects that are outside are bubble\n",
      "\n",
      "pred: [' Object Inside Object: Objects which are inside are man and the objects that are'] \n",
      "out: ['Object Inside Object: Objects which are inside are people and the objects that are outside are bubble']\n",
      "________________________\n",
      "==================================\n",
      "\n",
      "t5_step5_16_8_2021 10 epoch - \n",
      "input: \n",
      " I should watch what I eat because I order take out alot. \n",
      "Texture Replacement 2: The object which has a new texture is bottle and the objects that have created the texture are forks- chocolate- food\n",
      "\n",
      "pred: [' Object Replacement: The object which is placed in the context of another object is <unk> b'] \n",
      "out: ['Texture Replacement 2: The object which has a new texture is bottle and the objects that have created the texture are forks- chocolate- food']\n",
      "________________________\n",
      "\n",
      "t5_step6_18_8_2021 10 epoch - \n",
      "input: \n",
      " I should watch what I eat because I order take out alot. \n",
      "Texture Replacement 2: The object which has a new texture is bottle and the objects that have created the texture are forks- chocolate- food\n",
      "\n",
      "pred: [\" <unk> b>'bottle','stachue'<unk> /b\"] \n",
      "out: ['Texture Replacement 2: The object which has a new texture is bottle and the objects that have created the texture are forks- chocolate- food']\n",
      "________________________\n",
      "\n",
      "t5_step7_18_8_2021 10 epoch - \n",
      "input: \n",
      " I should watch what I eat because I order take out alot. \n",
      "Texture Replacement 2: The object which has a new texture is bottle and the objects that have created the texture are forks- chocolate- food\n",
      "\n",
      "pred: [' Texture Replacement 2: The object which has a new texture is <unk> b>bot'] \n",
      "out: ['Texture Replacement 2: The object which has a new texture is bottle and the objects that have created the texture are forks- chocolate- food']\n",
      "________________________\n",
      "\n",
      "t5_step8-2_25_8_2021 10 epoch - \n",
      "input: \n",
      " I should watch what I eat because I order take out alot. \n",
      "Texture Replacement 2: The object which has a new texture is bottle and the objects that have created the texture are forks- chocolate- food\n",
      "\n",
      "pred: [' Object Inside Object: Objects which are inside are <unk> b>woman<unk>'] \n",
      "out: ['Texture Replacement 2: The object which has a new texture is bottle and the objects that have created the texture are forks- chocolate- food']\n",
      "________________________\n",
      "\n",
      "t5_step10_3_9_2021 1 epoch - \n",
      "input: \n",
      " I should watch what I eat because I order take out alot. \n",
      "Texture Replacement 2: The object which has a new texture is bottle and the objects that have created the texture are forks- chocolate- food\n",
      "\n",
      "pred: [' Object Inside Object: Objects which are inside are <unk> b>woman<unk>'] \n",
      "out: ['Texture Replacement 2: The object which has a new texture is bottle and the objects that have created the texture are forks- chocolate- food']\n",
      "________________________\n",
      "\n",
      "t5_step9_b3_27_8_2021 20 epoch on input>output unserpvised -- 20 epochs on QA>Atypicla \n",
      "input: \n",
      " I should watch what I eat because I order take out alot. \n",
      "Texture Replacement 2: The object which has a new texture is bottle and the objects that have created the texture are forks- chocolate- food\n",
      "\n",
      "pred: [' Object Inside Object: Objects which are inside are ice and the objects that'] \n",
      "out: ['Texture Replacement 2: The object which has a new texture is bottle and the objects that have created the texture are forks- chocolate- food']\n",
      "________________________\n",
      "\n",
      "t5_step9_b3_27_8_2021_2 50 epoch on input>output unserpvised -then- 50 epochs on QA>Atypicla \n",
      "input: \n",
      " I should watch what I eat because I order take out alot. \n",
      "Texture Replacement 2: The object which has a new texture is bottle and the objects that have created the texture are forks- chocolate- food\n",
      "\n",
      "pred: [' Object Inside Object: Objects which are inside are ice and the objects that'] \n",
      "out: ['Texture Replacement 2: The object which has a new texture is bottle and the objects that have created the texture are forks- chocolate- food']\n",
      "________________________\n",
      "\n",
      "t5_step9_15_9_20212 50 epoch on input>output unserpvised -then- 50 epochs on QA>Atypicla , t5--base\n",
      "input: \n",
      " I should watch what I eat because I order take out alot. \n",
      "Texture Replacement 2: The object which has a new texture is bottle and the objects that have created the texture are forks- chocolate- food\n",
      "\n",
      "pred: [' Object Inside Object: Objects which are inside are ice cream and the objects'] \n",
      "out: ['Texture Replacement 2: The object which has a new texture is bottle and the objects that have created the texture are forks- chocolate- food']\n",
      "________________________\n",
      "==================================\n",
      "\n",
      "t5_step5_16_8_2021 10 epoch - \n",
      "input: \n",
      " I should buy a Nissan Leaf because the Nissan Leaf is eco-friendly. \n",
      "Combination of Parts: The objects that have created new object are leaf- road map\n",
      "\n",
      "pred: [' Object Replacement: The object which is placed in the context of another object is <unk> b'] \n",
      "out: ['Combination of Parts: The objects that have created new object are leaf- road map']\n",
      "________________________\n",
      "\n",
      "t5_step6_18_8_2021 10 epoch - \n",
      "input: \n",
      " I should buy a Nissan Leaf because the Nissan Leaf is eco-friendly. \n",
      "Combination of Parts: The objects that have created new object are leaf- road map\n",
      "\n",
      "pred: [\" <unk> b>'leaf- road map'<unk> /b>\"] \n",
      "out: ['Combination of Parts: The objects that have created new object are leaf- road map']\n",
      "________________________\n",
      "\n",
      "t5_step7_18_8_2021 10 epoch - \n",
      "input: \n",
      " I should buy a Nissan Leaf because the Nissan Leaf is eco-friendly. \n",
      "Combination of Parts: The objects that have created new object are leaf- road map\n",
      "\n",
      "pred: [' Object Replacement: The object which is placed in the context of another object is <unk> b'] \n",
      "out: ['Combination of Parts: The objects that have created new object are leaf- road map']\n",
      "________________________\n",
      "\n",
      "t5_step8-2_25_8_2021 10 epoch - \n",
      "input: \n",
      " I should buy a Nissan Leaf because the Nissan Leaf is eco-friendly. \n",
      "Combination of Parts: The objects that have created new object are leaf- road map\n",
      "\n",
      "pred: [' Object Replacement: The object which is placed in the context of another object is <unk> b'] \n",
      "out: ['Combination of Parts: The objects that have created new object are leaf- road map']\n",
      "________________________\n",
      "\n",
      "t5_step10_3_9_2021 1 epoch - \n",
      "input: \n",
      " I should buy a Nissan Leaf because the Nissan Leaf is eco-friendly. \n",
      "Combination of Parts: The objects that have created new object are leaf- road map\n",
      "\n",
      "pred: [' Object Replacement: The object which is placed in the context of another object is <unk> b'] \n",
      "out: ['Combination of Parts: The objects that have created new object are leaf- road map']\n",
      "________________________\n",
      "\n",
      "t5_step9_b3_27_8_2021 20 epoch on input>output unserpvised -- 20 epochs on QA>Atypicla \n",
      "input: \n",
      " I should buy a Nissan Leaf because the Nissan Leaf is eco-friendly. \n",
      "Combination of Parts: The objects that have created new object are leaf- road map\n",
      "\n",
      "pred: [' Object Inside Object: Objects which are inside are car and the objects that are'] \n",
      "out: ['Combination of Parts: The objects that have created new object are leaf- road map']\n",
      "________________________\n",
      "\n",
      "t5_step9_b3_27_8_2021_2 50 epoch on input>output unserpvised -then- 50 epochs on QA>Atypicla \n",
      "input: \n",
      " I should buy a Nissan Leaf because the Nissan Leaf is eco-friendly. \n",
      "Combination of Parts: The objects that have created new object are leaf- road map\n",
      "\n",
      "pred: [' Object Inside Object: Objects which are inside are car and the objects that are'] \n",
      "out: ['Combination of Parts: The objects that have created new object are leaf- road map']\n",
      "________________________\n",
      "\n",
      "t5_step9_15_9_20212 50 epoch on input>output unserpvised -then- 50 epochs on QA>Atypicla , t5--base\n",
      "input: \n",
      " I should buy a Nissan Leaf because the Nissan Leaf is eco-friendly. \n",
      "Combination of Parts: The objects that have created new object are leaf- road map\n",
      "\n",
      "pred: [' Object Inside Object: Objects which are inside are leaf and the objects that are'] \n",
      "out: ['Combination of Parts: The objects that have created new object are leaf- road map']\n",
      "________________________\n",
      "==================================\n"
     ]
    }
   ],
   "source": [
    "#supervised\n",
    "def sengen_supervised(model_path,train_df, key_in, key_out,t, tokenizer):\n",
    "    model = T5ForConditionalGeneration.from_pretrained(model_path)\n",
    "    model.eval()\n",
    "    input_ids = tokenizer.encode(train_df.iloc[t][key_in]+' </s>',padding=True,pad_to_max_length=True, return_tensors=\"pt\")  # Batch size 1\n",
    "    input_ids=input_ids.to(dev)\n",
    "    model = model.to(dev)\n",
    "    outputs = model.generate(input_ids)\n",
    "    \n",
    "    print('input: \\n', train_df.iloc[t][key_in])\n",
    "    \n",
    "    pred = tokenizer.decode(outputs[0])\n",
    "    pred = re.sub('<pad>', '',pred)\n",
    "#     pred = re.sub('<b>', '',pred)\n",
    "#     pred = re.sub('</b>', '',pred)\n",
    "    pred = re.sub('</s>', '',pred)\n",
    "    pred = re.sub(' +', ' ',pred)\n",
    "    pred = re.compile(r'<extra_id_\\d*>').split(pred)\n",
    "    \n",
    "    \n",
    "    \n",
    "    out = train_df.iloc[t][key_out]\n",
    "    print(out)\n",
    "    out = re.sub(' +', ' ',out)\n",
    "    out = re.compile(r'<extra_id_\\d*>').split(out)\n",
    "    \n",
    "    print('\\npred:',pred,'\\nout:',out)\n",
    "    print(\"________________________\")\n",
    "train_df=pd.read_csv('aty.csv', index_col=0)\n",
    "\n",
    "for i in [-1,10,100,1000]:\n",
    "    print('\\nt5_step5_16_8_2021', '10 epoch - ')\n",
    "    sengen_supervised('t5_step5_16_8_2021.h5',train_df,'QA','Atypical_Annot2', i,tokenizer)\n",
    "    \n",
    "    print('\\nt5_step6_18_8_2021', '10 epoch - ')\n",
    "    sengen_supervised('t5_step6_18_8_2021.h5',train_df,'QA','Atypical_Annot2',i,tokenizer)\n",
    "    \n",
    "    print('\\nt5_step7_18_8_2021', '10 epoch - ')\n",
    "    sengen_supervised('t5_step7_18_8_2021.h5',train_df,'QA','Atypical_Annot2',i,tokenizer)\n",
    "    \n",
    "    print('\\nt5_step8-2_25_8_2021', '10 epoch - ')\n",
    "    sengen_supervised('t5_step8-2_25_8_2021.h5',train_df,'QA','Atypical_Annot2',i,tokenizer)\n",
    "\n",
    "    print('\\nt5_step10_3_9_2021', '1 epoch - ')\n",
    "    sengen_supervised('t5_step10_3_9_2021.h5',train_df, 'QA','Atypical_Annot2',i,tokenizer)\n",
    "\n",
    "    print('\\nt5_step9_b3_27_8_2021', '20 epoch on input>output unserpvised -- 20 epochs on QA>Atypicla ')\n",
    "    sengen_supervised('t5_step9_b3_27_8_2021.h5',train_df, 'QA','Atypical_Annot2',i,tokenizer)\n",
    "    \n",
    "    print('\\nt5_step9_b3_27_8_2021_2', '50 epoch on input>output unserpvised -then- 50 epochs on QA>Atypicla ')\n",
    "    sengen_supervised('t5_step9_b3_27_8_2021.h5',train_df, 'QA','Atypical_Annot2',i,tokenizer)\n",
    "    \n",
    "    print('\\nt5_step9_15_9_20212', '50 epoch on input>output unserpvised -then- 50 epochs on QA>Atypicla , t5--base')\n",
    "    sengen_supervised('t5_step9_15_9_20212.h5',train_df, 'QA','Atypical_Annot2',i,tokenizer)\n",
    "    \n",
    "    \n",
    "    \n",
    "    print(\"==================================\")\n",
    "# sengen('t5_step8_25_8_2021.h5',train_df,i,tokenizer)\n"
   ]
  },
  {
   "cell_type": "code",
   "execution_count": 8,
   "metadata": {},
   "outputs": [
    {
     "data": {
      "text/plain": [
       "('I should buy a Nissan Leaf because the Nissan Leaf is eco-friendly. ',\n",
       " 'Combination of Parts: The objects that have created new object are <b>leaf- road map</b>')"
      ]
     },
     "execution_count": 8,
     "metadata": {},
     "output_type": "execute_result"
    }
   ],
   "source": [
    "train_df.iloc[1000]['QA'], train_df.iloc[1000]['Atypical_Annot']"
   ]
  },
  {
   "cell_type": "code",
   "execution_count": null,
   "metadata": {},
   "outputs": [],
   "source": [
    "# print('\\x1b[1;31m'+'Hello world'+'\\x1b[0m')\n"
   ]
  },
  {
   "cell_type": "code",
   "execution_count": null,
   "metadata": {},
   "outputs": [],
   "source": [
    "# model = train_model(pretrain,file_name,key_in, key_out, n_epochs)\n",
    "model = train_model('t5-small','t5_step9_b_27_8_2021',key_in, key_out, 1)"
   ]
  },
  {
   "cell_type": "code",
   "execution_count": null,
   "metadata": {},
   "outputs": [],
   "source": []
  }
 ],
 "metadata": {
  "accelerator": "TPU",
  "colab": {
   "collapsed_sections": [],
   "name": "T5_data_to_text.ipynb.ipynb",
   "version": ""
  },
  "kernelspec": {
   "display_name": "Python 3 (ipykernel)",
   "language": "python",
   "name": "python3"
  },
  "language_info": {
   "codemirror_mode": {
    "name": "ipython",
    "version": 3
   },
   "file_extension": ".py",
   "mimetype": "text/x-python",
   "name": "python",
   "nbconvert_exporter": "python",
   "pygments_lexer": "ipython3",
   "version": "3.9.5"
  }
 },
 "nbformat": 4,
 "nbformat_minor": 1
}
